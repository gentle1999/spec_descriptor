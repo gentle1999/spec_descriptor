{
 "cells": [
  {
   "cell_type": "code",
   "execution_count": 1,
   "metadata": {
    "ExecuteTime": {
     "end_time": "2022-04-22T15:01:11.457280Z",
     "start_time": "2022-04-22T15:01:10.368655Z"
    }
   },
   "outputs": [],
   "source": [
    "from img2spec import Img2Spec\n",
    "spec_path = 'sciFinder-spectrum'\n",
    "number_model_path = './model/recog_label_model.pth'\n",
    "digit_spec_path = 'digit_spec'"
   ]
  },
  {
   "cell_type": "code",
   "execution_count": 3,
   "metadata": {
    "ExecuteTime": {
     "end_time": "2022-04-22T15:02:05.380617Z",
     "start_time": "2022-04-22T15:01:46.492460Z"
    }
   },
   "outputs": [
    {
     "name": "stdout",
     "output_type": "stream",
     "text": [
      "success, sciFinder-spectrum/IR/1585-07-5.png\n",
      "success, sciFinder-spectrum/IR/300-87-8.png\n",
      "success, sciFinder-spectrum/IR/402-43-7.png\n",
      "success, sciFinder-spectrum/IR/109-04-6.png\n",
      "success, sciFinder-spectrum/IR/5765-44-6.png\n",
      "success, sciFinder-spectrum/IR/455-13-0.png\n",
      "success, sciFinder-spectrum/IR/1008-75-9.png\n",
      "success, sciFinder-spectrum/IR/696-62-8.png\n",
      "success, sciFinder-spectrum/IR/1120-90-7.png\n",
      "success, sciFinder-spectrum/IR/98-56-6.png\n",
      "success, sciFinder-spectrum/IR/622-98-0.png\n",
      "success, sciFinder-spectrum/IR/271-95-4.png\n"
     ]
    },
    {
     "name": "stderr",
     "output_type": "stream",
     "text": [
      "/PyScripts/PyTorch.dir/TMJ/spec/img2spec.py:94: FutureWarning: Non RGB image conversion is now deprecated. For RGBA images, please use rgb2gray(rgba2rgb(rgb)) instead. In version 0.19, a ValueError will be raised if input image last dimension length is not 3.\n",
      "  img_gray = color.rgb2gray(self.original_img)\n",
      "/home/user/miniconda/lib/python3.7/site-packages/skimage/filters/thresholding.py:701: RuntimeWarning: divide by zero encountered in log\n",
      "  (np.log(mean_back) - np.log(mean_fore)))\n"
     ]
    },
    {
     "name": "stdout",
     "output_type": "stream",
     "text": [
      "success, sciFinder-spectrum/IR/626-55-1.png\n",
      "success, sciFinder-spectrum/IR/626-60-8.png\n",
      "success, sciFinder-spectrum/IR/109-09-1.png\n",
      "success, sciFinder-spectrum/IR/623-12-1.png\n",
      "success, sciFinder-spectrum/IR/1006-67-3.png\n",
      "success, sciFinder-spectrum/IR/30842-90-1.png\n",
      "success, sciFinder-spectrum/IR/104-92-7.png\n",
      "success, sciFinder-spectrum/MS/1585-07-5.png\n",
      "success, sciFinder-spectrum/MS/80370-40-7.png\n",
      "success, sciFinder-spectrum/MS/300-87-8.png\n",
      "success, sciFinder-spectrum/MS/402-43-7.png\n",
      "success, sciFinder-spectrum/MS/109-04-6.png\n",
      "success, sciFinder-spectrum/MS/5765-44-6.png\n",
      "success, sciFinder-spectrum/MS/455-13-0.png\n",
      "success, sciFinder-spectrum/MS/1008-75-9.png\n",
      "success, sciFinder-spectrum/MS/696-62-8.png\n",
      "success, sciFinder-spectrum/MS/1006-65-1.png\n",
      "success, sciFinder-spectrum/MS/1120-90-7.png\n",
      "success, sciFinder-spectrum/MS/98-56-6.png\n",
      "success, sciFinder-spectrum/MS/5029-67-4.png\n"
     ]
    },
    {
     "name": "stderr",
     "output_type": "stream",
     "text": [
      "/PyScripts/PyTorch.dir/TMJ/spec/img2spec.py:94: FutureWarning: Non RGB image conversion is now deprecated. For RGBA images, please use rgb2gray(rgba2rgb(rgb)) instead. In version 0.19, a ValueError will be raised if input image last dimension length is not 3.\n",
      "  img_gray = color.rgb2gray(self.original_img)\n",
      "/home/user/miniconda/lib/python3.7/site-packages/skimage/filters/thresholding.py:701: RuntimeWarning: divide by zero encountered in log\n",
      "  (np.log(mean_back) - np.log(mean_fore)))\n"
     ]
    },
    {
     "name": "stdout",
     "output_type": "stream",
     "text": [
      "success, sciFinder-spectrum/MS/271-58-9.png\n",
      "success, sciFinder-spectrum/MS/517870-23-4.png\n",
      "success, sciFinder-spectrum/MS/622-98-0.png\n",
      "success, sciFinder-spectrum/MS/271-95-4.png\n",
      "success, sciFinder-spectrum/MS/626-55-1.png\n",
      "success, sciFinder-spectrum/MS/626-60-8.png\n",
      "success, sciFinder-spectrum/MS/109-09-1.png\n",
      "success, sciFinder-spectrum/MS/623-12-1.png\n",
      "success, sciFinder-spectrum/MS/1006-67-3.png\n",
      "success, sciFinder-spectrum/MS/104-92-7.png\n"
     ]
    },
    {
     "name": "stderr",
     "output_type": "stream",
     "text": [
      "/home/user/miniconda/lib/python3.7/site-packages/skimage/filters/thresholding.py:701: RuntimeWarning: divide by zero encountered in log\n",
      "  (np.log(mean_back) - np.log(mean_fore)))\n"
     ]
    },
    {
     "name": "stdout",
     "output_type": "stream",
     "text": [
      "success, sciFinder-spectrum/HNMR/1585-07-5.png\n"
     ]
    },
    {
     "name": "stderr",
     "output_type": "stream",
     "text": [
      "/home/user/miniconda/lib/python3.7/site-packages/skimage/filters/thresholding.py:701: RuntimeWarning: divide by zero encountered in log\n",
      "  (np.log(mean_back) - np.log(mean_fore)))\n"
     ]
    },
    {
     "name": "stdout",
     "output_type": "stream",
     "text": [
      "success, sciFinder-spectrum/HNMR/300-87-8.png\n"
     ]
    },
    {
     "name": "stderr",
     "output_type": "stream",
     "text": [
      "/PyScripts/PyTorch.dir/TMJ/spec/img2spec.py:94: FutureWarning: The behavior of rgb2gray will change in scikit-image 0.19. Currently, rgb2gray allows 2D grayscale image to be passed as inputs and leaves them unmodified as outputs. Starting from version 0.19, 2D arrays will be treated as 1D images with 3 channels.\n",
      "  img_gray = color.rgb2gray(self.original_img)\n"
     ]
    },
    {
     "name": "stdout",
     "output_type": "stream",
     "text": [
      "success, sciFinder-spectrum/HNMR/402-43-7.png\n",
      "success, sciFinder-spectrum/HNMR/109-04-6.png\n"
     ]
    },
    {
     "name": "stderr",
     "output_type": "stream",
     "text": [
      "/home/user/miniconda/lib/python3.7/site-packages/skimage/filters/thresholding.py:701: RuntimeWarning: divide by zero encountered in log\n",
      "  (np.log(mean_back) - np.log(mean_fore)))\n"
     ]
    },
    {
     "name": "stdout",
     "output_type": "stream",
     "text": [
      "success, sciFinder-spectrum/HNMR/5765-44-6.png\n"
     ]
    },
    {
     "name": "stderr",
     "output_type": "stream",
     "text": [
      "/PyScripts/PyTorch.dir/TMJ/spec/img2spec.py:94: FutureWarning: The behavior of rgb2gray will change in scikit-image 0.19. Currently, rgb2gray allows 2D grayscale image to be passed as inputs and leaves them unmodified as outputs. Starting from version 0.19, 2D arrays will be treated as 1D images with 3 channels.\n",
      "  img_gray = color.rgb2gray(self.original_img)\n"
     ]
    },
    {
     "name": "stdout",
     "output_type": "stream",
     "text": [
      "success, sciFinder-spectrum/HNMR/455-13-0.png\n"
     ]
    },
    {
     "name": "stderr",
     "output_type": "stream",
     "text": [
      "/PyScripts/PyTorch.dir/TMJ/spec/img2spec.py:94: FutureWarning: The behavior of rgb2gray will change in scikit-image 0.19. Currently, rgb2gray allows 2D grayscale image to be passed as inputs and leaves them unmodified as outputs. Starting from version 0.19, 2D arrays will be treated as 1D images with 3 channels.\n",
      "  img_gray = color.rgb2gray(self.original_img)\n"
     ]
    },
    {
     "name": "stdout",
     "output_type": "stream",
     "text": [
      "success, sciFinder-spectrum/HNMR/84030-20-6.png\n"
     ]
    },
    {
     "name": "stderr",
     "output_type": "stream",
     "text": [
      "/PyScripts/PyTorch.dir/TMJ/spec/img2spec.py:94: FutureWarning: The behavior of rgb2gray will change in scikit-image 0.19. Currently, rgb2gray allows 2D grayscale image to be passed as inputs and leaves them unmodified as outputs. Starting from version 0.19, 2D arrays will be treated as 1D images with 3 channels.\n",
      "  img_gray = color.rgb2gray(self.original_img)\n"
     ]
    },
    {
     "name": "stdout",
     "output_type": "stream",
     "text": [
      "success, sciFinder-spectrum/HNMR/165535-45-5.png\n"
     ]
    },
    {
     "name": "stderr",
     "output_type": "stream",
     "text": [
      "/PyScripts/PyTorch.dir/TMJ/spec/img2spec.py:94: FutureWarning: The behavior of rgb2gray will change in scikit-image 0.19. Currently, rgb2gray allows 2D grayscale image to be passed as inputs and leaves them unmodified as outputs. Starting from version 0.19, 2D arrays will be treated as 1D images with 3 channels.\n",
      "  img_gray = color.rgb2gray(self.original_img)\n"
     ]
    },
    {
     "name": "stdout",
     "output_type": "stream",
     "text": [
      "success, sciFinder-spectrum/HNMR/1120-90-7.png\n",
      "success, sciFinder-spectrum/HNMR/98-56-6.png\n"
     ]
    },
    {
     "name": "stderr",
     "output_type": "stream",
     "text": [
      "/home/user/miniconda/lib/python3.7/site-packages/skimage/filters/thresholding.py:701: RuntimeWarning: divide by zero encountered in log\n",
      "  (np.log(mean_back) - np.log(mean_fore)))\n"
     ]
    },
    {
     "name": "stdout",
     "output_type": "stream",
     "text": [
      "success, sciFinder-spectrum/HNMR/5029-67-4.png\n"
     ]
    },
    {
     "name": "stderr",
     "output_type": "stream",
     "text": [
      "/PyScripts/PyTorch.dir/TMJ/spec/img2spec.py:94: FutureWarning: The behavior of rgb2gray will change in scikit-image 0.19. Currently, rgb2gray allows 2D grayscale image to be passed as inputs and leaves them unmodified as outputs. Starting from version 0.19, 2D arrays will be treated as 1D images with 3 channels.\n",
      "  img_gray = color.rgb2gray(self.original_img)\n"
     ]
    },
    {
     "name": "stdout",
     "output_type": "stream",
     "text": [
      "success, sciFinder-spectrum/HNMR/271-58-9.png\n"
     ]
    },
    {
     "name": "stderr",
     "output_type": "stream",
     "text": [
      "/home/user/miniconda/lib/python3.7/site-packages/skimage/filters/thresholding.py:701: RuntimeWarning: divide by zero encountered in log\n",
      "  (np.log(mean_back) - np.log(mean_fore)))\n"
     ]
    },
    {
     "name": "stdout",
     "output_type": "stream",
     "text": [
      "success, sciFinder-spectrum/HNMR/517870-23-4.png\n"
     ]
    },
    {
     "name": "stderr",
     "output_type": "stream",
     "text": [
      "/PyScripts/PyTorch.dir/TMJ/spec/img2spec.py:94: FutureWarning: Non RGB image conversion is now deprecated. For RGBA images, please use rgb2gray(rgba2rgb(rgb)) instead. In version 0.19, a ValueError will be raised if input image last dimension length is not 3.\n",
      "  img_gray = color.rgb2gray(self.original_img)\n",
      "/home/user/miniconda/lib/python3.7/site-packages/skimage/filters/thresholding.py:701: RuntimeWarning: divide by zero encountered in log\n",
      "  (np.log(mean_back) - np.log(mean_fore)))\n"
     ]
    },
    {
     "name": "stdout",
     "output_type": "stream",
     "text": [
      "success, sciFinder-spectrum/HNMR/622-98-0.png\n"
     ]
    },
    {
     "name": "stderr",
     "output_type": "stream",
     "text": [
      "/home/user/miniconda/lib/python3.7/site-packages/skimage/filters/thresholding.py:701: RuntimeWarning: divide by zero encountered in log\n",
      "  (np.log(mean_back) - np.log(mean_fore)))\n"
     ]
    },
    {
     "name": "stdout",
     "output_type": "stream",
     "text": [
      "success, sciFinder-spectrum/HNMR/271-95-4.png\n"
     ]
    },
    {
     "name": "stderr",
     "output_type": "stream",
     "text": [
      "/home/user/miniconda/lib/python3.7/site-packages/skimage/filters/thresholding.py:701: RuntimeWarning: divide by zero encountered in log\n",
      "  (np.log(mean_back) - np.log(mean_fore)))\n"
     ]
    },
    {
     "name": "stdout",
     "output_type": "stream",
     "text": [
      "success, sciFinder-spectrum/HNMR/626-55-1.png\n"
     ]
    },
    {
     "name": "stderr",
     "output_type": "stream",
     "text": [
      "/home/user/miniconda/lib/python3.7/site-packages/skimage/filters/thresholding.py:701: RuntimeWarning: divide by zero encountered in log\n",
      "  (np.log(mean_back) - np.log(mean_fore)))\n"
     ]
    },
    {
     "name": "stdout",
     "output_type": "stream",
     "text": [
      "success, sciFinder-spectrum/HNMR/626-60-8.png\n"
     ]
    },
    {
     "name": "stderr",
     "output_type": "stream",
     "text": [
      "/home/user/miniconda/lib/python3.7/site-packages/skimage/filters/thresholding.py:701: RuntimeWarning: divide by zero encountered in log\n",
      "  (np.log(mean_back) - np.log(mean_fore)))\n"
     ]
    },
    {
     "name": "stdout",
     "output_type": "stream",
     "text": [
      "success, sciFinder-spectrum/HNMR/109-09-1.png\n"
     ]
    },
    {
     "name": "stderr",
     "output_type": "stream",
     "text": [
      "/home/user/miniconda/lib/python3.7/site-packages/skimage/filters/thresholding.py:701: RuntimeWarning: divide by zero encountered in log\n",
      "  (np.log(mean_back) - np.log(mean_fore)))\n"
     ]
    },
    {
     "name": "stdout",
     "output_type": "stream",
     "text": [
      "success, sciFinder-spectrum/HNMR/623-12-1.png\n"
     ]
    },
    {
     "name": "stderr",
     "output_type": "stream",
     "text": [
      "/PyScripts/PyTorch.dir/TMJ/spec/img2spec.py:94: FutureWarning: Non RGB image conversion is now deprecated. For RGBA images, please use rgb2gray(rgba2rgb(rgb)) instead. In version 0.19, a ValueError will be raised if input image last dimension length is not 3.\n",
      "  img_gray = color.rgb2gray(self.original_img)\n"
     ]
    },
    {
     "name": "stdout",
     "output_type": "stream",
     "text": [
      "success, sciFinder-spectrum/HNMR/1006-67-3.png\n"
     ]
    },
    {
     "name": "stderr",
     "output_type": "stream",
     "text": [
      "/PyScripts/PyTorch.dir/TMJ/spec/img2spec.py:94: FutureWarning: The behavior of rgb2gray will change in scikit-image 0.19. Currently, rgb2gray allows 2D grayscale image to be passed as inputs and leaves them unmodified as outputs. Starting from version 0.19, 2D arrays will be treated as 1D images with 3 channels.\n",
      "  img_gray = color.rgb2gray(self.original_img)\n"
     ]
    },
    {
     "name": "stdout",
     "output_type": "stream",
     "text": [
      "success, sciFinder-spectrum/HNMR/25309-64-2.png\n",
      "success, sciFinder-spectrum/HNMR/104-92-7.png\n",
      "ERROR, `sciFinder-spectrum/CNMR/1585-07-5.png` is not standardized\n",
      "success, sciFinder-spectrum/CNMR/300-87-8.png\n",
      "success, sciFinder-spectrum/CNMR/402-43-7.png\n"
     ]
    },
    {
     "name": "stderr",
     "output_type": "stream",
     "text": [
      "/PyScripts/PyTorch.dir/TMJ/spec/img2spec.py:94: FutureWarning: The behavior of rgb2gray will change in scikit-image 0.19. Currently, rgb2gray allows 2D grayscale image to be passed as inputs and leaves them unmodified as outputs. Starting from version 0.19, 2D arrays will be treated as 1D images with 3 channels.\n",
      "  img_gray = color.rgb2gray(self.original_img)\n"
     ]
    },
    {
     "name": "stdout",
     "output_type": "stream",
     "text": [
      "ERROR, `sciFinder-spectrum/CNMR/109-04-6.png` is not standardized\n",
      "success, sciFinder-spectrum/CNMR/5765-44-6.png\n"
     ]
    },
    {
     "name": "stderr",
     "output_type": "stream",
     "text": [
      "/PyScripts/PyTorch.dir/TMJ/spec/img2spec.py:94: FutureWarning: The behavior of rgb2gray will change in scikit-image 0.19. Currently, rgb2gray allows 2D grayscale image to be passed as inputs and leaves them unmodified as outputs. Starting from version 0.19, 2D arrays will be treated as 1D images with 3 channels.\n",
      "  img_gray = color.rgb2gray(self.original_img)\n",
      "/PyScripts/PyTorch.dir/TMJ/spec/img2spec.py:94: FutureWarning: The behavior of rgb2gray will change in scikit-image 0.19. Currently, rgb2gray allows 2D grayscale image to be passed as inputs and leaves them unmodified as outputs. Starting from version 0.19, 2D arrays will be treated as 1D images with 3 channels.\n",
      "  img_gray = color.rgb2gray(self.original_img)\n"
     ]
    },
    {
     "name": "stdout",
     "output_type": "stream",
     "text": [
      "success, sciFinder-spectrum/CNMR/455-13-0.png\n",
      "success, sciFinder-spectrum/CNMR/1008-75-9.png\n",
      "success, sciFinder-spectrum/CNMR/696-62-8.png\n",
      "success, sciFinder-spectrum/CNMR/84030-20-6.png\n"
     ]
    },
    {
     "name": "stderr",
     "output_type": "stream",
     "text": [
      "/PyScripts/PyTorch.dir/TMJ/spec/img2spec.py:94: FutureWarning: The behavior of rgb2gray will change in scikit-image 0.19. Currently, rgb2gray allows 2D grayscale image to be passed as inputs and leaves them unmodified as outputs. Starting from version 0.19, 2D arrays will be treated as 1D images with 3 channels.\n",
      "  img_gray = color.rgb2gray(self.original_img)\n",
      "/PyScripts/PyTorch.dir/TMJ/spec/img2spec.py:94: FutureWarning: The behavior of rgb2gray will change in scikit-image 0.19. Currently, rgb2gray allows 2D grayscale image to be passed as inputs and leaves them unmodified as outputs. Starting from version 0.19, 2D arrays will be treated as 1D images with 3 channels.\n",
      "  img_gray = color.rgb2gray(self.original_img)\n"
     ]
    },
    {
     "name": "stdout",
     "output_type": "stream",
     "text": [
      "success, sciFinder-spectrum/CNMR/165535-45-5.png\n",
      "success, sciFinder-spectrum/CNMR/1120-90-7.png\n"
     ]
    },
    {
     "name": "stderr",
     "output_type": "stream",
     "text": [
      "/PyScripts/PyTorch.dir/TMJ/spec/img2spec.py:94: FutureWarning: The behavior of rgb2gray will change in scikit-image 0.19. Currently, rgb2gray allows 2D grayscale image to be passed as inputs and leaves them unmodified as outputs. Starting from version 0.19, 2D arrays will be treated as 1D images with 3 channels.\n",
      "  img_gray = color.rgb2gray(self.original_img)\n",
      "/PyScripts/PyTorch.dir/TMJ/spec/img2spec.py:94: FutureWarning: The behavior of rgb2gray will change in scikit-image 0.19. Currently, rgb2gray allows 2D grayscale image to be passed as inputs and leaves them unmodified as outputs. Starting from version 0.19, 2D arrays will be treated as 1D images with 3 channels.\n",
      "  img_gray = color.rgb2gray(self.original_img)\n"
     ]
    },
    {
     "name": "stdout",
     "output_type": "stream",
     "text": [
      "success, sciFinder-spectrum/CNMR/98-56-6.png\n",
      "success, sciFinder-spectrum/CNMR/5029-67-4.png\n"
     ]
    },
    {
     "name": "stderr",
     "output_type": "stream",
     "text": [
      "/PyScripts/PyTorch.dir/TMJ/spec/img2spec.py:94: FutureWarning: The behavior of rgb2gray will change in scikit-image 0.19. Currently, rgb2gray allows 2D grayscale image to be passed as inputs and leaves them unmodified as outputs. Starting from version 0.19, 2D arrays will be treated as 1D images with 3 channels.\n",
      "  img_gray = color.rgb2gray(self.original_img)\n",
      "/PyScripts/PyTorch.dir/TMJ/spec/img2spec.py:94: FutureWarning: The behavior of rgb2gray will change in scikit-image 0.19. Currently, rgb2gray allows 2D grayscale image to be passed as inputs and leaves them unmodified as outputs. Starting from version 0.19, 2D arrays will be treated as 1D images with 3 channels.\n",
      "  img_gray = color.rgb2gray(self.original_img)\n"
     ]
    },
    {
     "name": "stdout",
     "output_type": "stream",
     "text": [
      "success, sciFinder-spectrum/CNMR/271-58-9.png\n",
      "success, sciFinder-spectrum/CNMR/271-95-4.png\n",
      "ERROR, `sciFinder-spectrum/CNMR/626-55-1.png` is not standardized\n",
      "success, sciFinder-spectrum/CNMR/626-60-8.png\n"
     ]
    },
    {
     "name": "stderr",
     "output_type": "stream",
     "text": [
      "/PyScripts/PyTorch.dir/TMJ/spec/img2spec.py:94: FutureWarning: The behavior of rgb2gray will change in scikit-image 0.19. Currently, rgb2gray allows 2D grayscale image to be passed as inputs and leaves them unmodified as outputs. Starting from version 0.19, 2D arrays will be treated as 1D images with 3 channels.\n",
      "  img_gray = color.rgb2gray(self.original_img)\n"
     ]
    },
    {
     "name": "stdout",
     "output_type": "stream",
     "text": [
      "ERROR, `sciFinder-spectrum/CNMR/109-09-1.png` is not standardized\n",
      "ERROR, `sciFinder-spectrum/CNMR/623-12-1.png` is not standardized\n",
      "ERROR, `sciFinder-spectrum/CNMR/1006-67-3.png` is not standardized\n"
     ]
    },
    {
     "name": "stderr",
     "output_type": "stream",
     "text": [
      "/PyScripts/PyTorch.dir/TMJ/spec/img2spec.py:94: FutureWarning: The behavior of rgb2gray will change in scikit-image 0.19. Currently, rgb2gray allows 2D grayscale image to be passed as inputs and leaves them unmodified as outputs. Starting from version 0.19, 2D arrays will be treated as 1D images with 3 channels.\n",
      "  img_gray = color.rgb2gray(self.original_img)\n"
     ]
    },
    {
     "name": "stdout",
     "output_type": "stream",
     "text": [
      "success, sciFinder-spectrum/CNMR/25309-64-2.png\n",
      "ERROR, `sciFinder-spectrum/CNMR/30842-90-1.png` is not standardized\n",
      "ERROR, `sciFinder-spectrum/CNMR/104-92-7.png` is not standardized\n"
     ]
    }
   ],
   "source": [
    "for spec_type in ('IR', 'MS', 'HNMR', 'CNMR'):\n",
    "    Img2Spec('{}/{}'.format(spec_path, spec_type), number_model_path, spec_type, '{}/{}'.format(digit_spec_path, spec_type)).img_process()"
   ]
  },
  {
   "cell_type": "code",
   "execution_count": null,
   "metadata": {},
   "outputs": [],
   "source": []
  }
 ],
 "metadata": {
  "kernelspec": {
   "display_name": "Python 3",
   "language": "python",
   "name": "python3"
  },
  "language_info": {
   "codemirror_mode": {
    "name": "ipython",
    "version": 3
   },
   "file_extension": ".py",
   "mimetype": "text/x-python",
   "name": "python",
   "nbconvert_exporter": "python",
   "pygments_lexer": "ipython3",
   "version": "3.7.3"
  },
  "toc": {
   "base_numbering": 1,
   "nav_menu": {},
   "number_sections": true,
   "sideBar": true,
   "skip_h1_title": false,
   "title_cell": "Table of Contents",
   "title_sidebar": "Contents",
   "toc_cell": false,
   "toc_position": {},
   "toc_section_display": true,
   "toc_window_display": false
  },
  "varInspector": {
   "cols": {
    "lenName": 16,
    "lenType": 16,
    "lenVar": 40
   },
   "kernels_config": {
    "python": {
     "delete_cmd_postfix": "",
     "delete_cmd_prefix": "del ",
     "library": "var_list.py",
     "varRefreshCmd": "print(var_dic_list())"
    },
    "r": {
     "delete_cmd_postfix": ") ",
     "delete_cmd_prefix": "rm(",
     "library": "var_list.r",
     "varRefreshCmd": "cat(var_dic_list()) "
    }
   },
   "types_to_exclude": [
    "module",
    "function",
    "builtin_function_or_method",
    "instance",
    "_Feature"
   ],
   "window_display": false
  }
 },
 "nbformat": 4,
 "nbformat_minor": 4
}
