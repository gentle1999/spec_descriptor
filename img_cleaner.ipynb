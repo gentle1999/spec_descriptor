{
 "cells": [
  {
   "cell_type": "code",
   "execution_count": 1,
   "metadata": {
    "ExecuteTime": {
     "end_time": "2022-04-11T04:48:01.948934Z",
     "start_time": "2022-04-11T04:48:01.320279Z"
    }
   },
   "outputs": [],
   "source": [
    "import cv2\n",
    "from imutils.perspective import four_point_transform\n",
    "from imutils import contours\n",
    "import imutils\n",
    "import matplotlib.pyplot as plt\n",
    "from skimage import io, color, data, filters\n",
    "import numpy as np\n",
    "import os\n",
    "import shutil\n",
    "\n",
    "from skimage import morphology as mo\n",
    "from skimage import transform as tr\n",
    "from sklearn.linear_model import LinearRegression"
   ]
  },
  {
   "cell_type": "code",
   "execution_count": 2,
   "metadata": {
    "ExecuteTime": {
     "end_time": "2022-04-11T04:48:01.959010Z",
     "start_time": "2022-04-11T04:48:01.953198Z"
    }
   },
   "outputs": [],
   "source": [
    "class ImgCleaner():\n",
    "    def __init__(self, img:np.ndarray):\n",
    "        self.original_img = img\n",
    "        self.thresholded_img = self.thresholding()\n",
    "        \n",
    "    def thresholding(self):\n",
    "        img_gray = color.rgb2gray(self.original_img)\n",
    "        thresh = filters.threshold_li(img_gray)\n",
    "        binary = img_gray > thresh\n",
    "        return binary\n",
    "        \n",
    "    def get_left_border(self):\n",
    "        horizon_distribution = np.sum(~self.thresholded_img, axis=0)\n",
    "        sorted_horizon_distribution = sorted(horizon_distribution)\n",
    "        for i in range(len(horizon_distribution)):\n",
    "            if horizon_distribution[i] == sorted_horizon_distribution[-1]:\n",
    "                left = i\n",
    "                return left\n",
    "            \n",
    "    def get_bottom(self):\n",
    "        vertical_distribution = np.sum(~self.thresholded_img, axis=1)\n",
    "        sorted_vertical_distribution = sorted(vertical_distribution)\n",
    "        for i in range(len(vertical_distribution)):\n",
    "            if vertical_distribution[i] == sorted_vertical_distribution[-1]:\n",
    "                bottom = i\n",
    "                return bottom\n",
    "        \n",
    "    def clean_upper_bottom(self):\n",
    "        no_upper_bottom_img = self.thresholded_img\n",
    "        left = self.get_left_border()\n",
    "        temp_img = ~self.thresholded_img[:,left:]\n",
    "        vertical_distribution = np.sum(temp_img, axis=1)\n",
    "        sorted_vertical_distribution = sorted(vertical_distribution)\n",
    "        if sorted_vertical_distribution[-1] == sorted_vertical_distribution[-2]:\n",
    "            for i in range(len(vertical_distribution)):\n",
    "                if vertical_distribution[i] == sorted_vertical_distribution[-1]:\n",
    "                    for j in range(temp_img.shape[1]):\n",
    "                        no_upper_bottom_img[i][left+j] = True\n",
    "                    break\n",
    "        return no_upper_bottom_img\n",
    "    \n",
    "    def clean_right_border(self):\n",
    "        no_right_border_img = self.thresholded_img\n",
    "        bottom = self.get_bottom()\n",
    "        temp_img = ~self.thresholded_img[:bottom, :]\n",
    "        horizon_distribution = np.sum(temp_img, axis=0)\n",
    "        sorted_horizon_distribution = sorted(horizon_distribution)\n",
    "        if sorted_horizon_distribution[-1] == sorted_horizon_distribution[-2]:\n",
    "            for i in range(len(horizon_distribution)-1, 0, -1):\n",
    "                if horizon_distribution[i] == sorted_horizon_distribution[-1]:\n",
    "                    for j in range(temp_img.shape[0]):\n",
    "                        no_right_border_img[j][i] = True\n",
    "                    break\n",
    "        return no_right_border_img\n",
    "    \n",
    "    def clean_number_direction(self):\n",
    "        "
   ]
  },
  {
   "cell_type": "code",
   "execution_count": 3,
   "metadata": {
    "ExecuteTime": {
     "end_time": "2022-04-11T04:48:02.724901Z",
     "start_time": "2022-04-11T04:48:02.709141Z"
    }
   },
   "outputs": [
    {
     "name": "stderr",
     "output_type": "stream",
     "text": [
      "/home/user/miniconda/lib/python3.7/site-packages/ipykernel_launcher.py:7: FutureWarning: The behavior of rgb2gray will change in scikit-image 0.19. Currently, rgb2gray allows 2D grayscale image to be passed as inputs and leaves them unmodified as outputs. Starting from version 0.19, 2D arrays will be treated as 1D images with 3 channels.\n",
      "  import sys\n",
      "/home/user/miniconda/lib/python3.7/site-packages/skimage/filters/thresholding.py:701: RuntimeWarning: divide by zero encountered in log\n",
      "  (np.log(mean_back) - np.log(mean_fore)))\n"
     ]
    },
    {
     "data": {
      "text/plain": [
       "array([[ True,  True,  True, ...,  True,  True,  True],\n",
       "       [ True,  True,  True, ...,  True,  True,  True],\n",
       "       [ True,  True,  True, ...,  True,  True,  True],\n",
       "       ...,\n",
       "       [ True,  True,  True, ...,  True,  True,  True],\n",
       "       [ True,  True,  True, ...,  True,  True,  True],\n",
       "       [ True,  True,  True, ...,  True,  True,  True]])"
      ]
     },
     "execution_count": 3,
     "metadata": {},
     "output_type": "execute_result"
    }
   ],
   "source": [
    "ImgCleaner(io.imread(\"sciFinder-spectrum/MS/5029-67-4.gif\")).clean_right_border()"
   ]
  },
  {
   "cell_type": "code",
   "execution_count": 2,
   "metadata": {
    "ExecuteTime": {
     "end_time": "2022-04-09T06:46:16.019264Z",
     "start_time": "2022-04-09T06:46:16.012150Z"
    }
   },
   "outputs": [],
   "source": [
    "img = io.imread(\"sciFinder-spectrum/MS/5029-67-4.gif\")"
   ]
  },
  {
   "cell_type": "code",
   "execution_count": 3,
   "metadata": {
    "ExecuteTime": {
     "end_time": "2022-04-09T06:46:25.102006Z",
     "start_time": "2022-04-09T06:46:25.004766Z"
    }
   },
   "outputs": [
    {
     "data": {
      "text/plain": [
       "<matplotlib.image.AxesImage at 0x7f26e6806c88>"
      ]
     },
     "execution_count": 3,
     "metadata": {},
     "output_type": "execute_result"
    },
    {
     "data": {
      "image/png": "[encoded data removed]",
      "text/plain": [
       "<Figure size 432x288 with 1 Axes>"
      ]
     },
     "metadata": {
      "needs_background": "light"
     },
     "output_type": "display_data"
    }
   ],
   "source": [
    "io.imshow(img)"
   ]
  },
  {
   "cell_type": "code",
   "execution_count": 4,
   "metadata": {
    "ExecuteTime": {
     "end_time": "2022-04-09T06:47:25.002314Z",
     "start_time": "2022-04-09T06:47:24.994026Z"
    }
   },
   "outputs": [
    {
     "name": "stderr",
     "output_type": "stream",
     "text": [
      "/home/user/miniconda/lib/python3.7/site-packages/ipykernel_launcher.py:2: FutureWarning: The behavior of rgb2gray will change in scikit-image 0.19. Currently, rgb2gray allows 2D grayscale image to be passed as inputs and leaves them unmodified as outputs. Starting from version 0.19, 2D arrays will be treated as 1D images with 3 channels.\n",
      "  \n",
      "/home/user/miniconda/lib/python3.7/site-packages/skimage/filters/thresholding.py:701: RuntimeWarning: divide by zero encountered in log\n",
      "  (np.log(mean_back) - np.log(mean_fore)))\n"
     ]
    }
   ],
   "source": [
    "def thresholding(original_img):\n",
    "    img_gray = color.rgb2gray(original_img)\n",
    "    thresh = filters.threshold_li(img_gray)\n",
    "    binary = img_gray > thresh\n",
    "    return binary\n",
    "\n",
    "img = thresholding(img)"
   ]
  },
  {
   "cell_type": "code",
   "execution_count": 5,
   "metadata": {
    "ExecuteTime": {
     "end_time": "2022-04-09T06:47:32.669023Z",
     "start_time": "2022-04-09T06:47:32.570320Z"
    }
   },
   "outputs": [
    {
     "data": {
      "text/plain": [
       "<matplotlib.image.AxesImage at 0x7f26e568e518>"
      ]
     },
     "execution_count": 5,
     "metadata": {},
     "output_type": "execute_result"
    },
    {
     "data": {
      "image/png": "[encoded data removed]",
      "text/plain": [
       "<Figure size 432x288 with 1 Axes>"
      ]
     },
     "metadata": {
      "needs_background": "light"
     },
     "output_type": "display_data"
    }
   ],
   "source": [
    "io.imshow(img)"
   ]
  },
  {
   "cell_type": "code",
   "execution_count": 16,
   "metadata": {
    "ExecuteTime": {
     "end_time": "2022-04-09T07:01:36.786864Z",
     "start_time": "2022-04-09T07:01:36.783000Z"
    }
   },
   "outputs": [
    {
     "data": {
      "text/plain": [
       "(36, 412)"
      ]
     },
     "execution_count": 16,
     "metadata": {},
     "output_type": "execute_result"
    }
   ],
   "source": [
    "vertical_distribution = np.sum(~img, axis=1)\n",
    "sorted_vertical_distribution = sorted(vertical_distribution)\n",
    "for i in range(len(vertical_distribution)):\n",
    "    if vertical_distribution[i] == sorted_vertical_distribution[-2]:\n",
    "        top = i\n",
    "    if vertical_distribution[i] == sorted_vertical_distribution[-1]:\n",
    "        bottom = i\n",
    "top, bottom            "
   ]
  },
  {
   "cell_type": "code",
   "execution_count": 17,
   "metadata": {
    "ExecuteTime": {
     "end_time": "2022-04-09T07:03:42.894814Z",
     "start_time": "2022-04-09T07:03:42.890681Z"
    }
   },
   "outputs": [
    {
     "data": {
      "text/plain": [
       "(103, 691)"
      ]
     },
     "execution_count": 17,
     "metadata": {},
     "output_type": "execute_result"
    }
   ],
   "source": [
    "horizon_distribution = np.sum(~img, axis=0)\n",
    "sorted_horizon_distribution = sorted(horizon_distribution)\n",
    "for i in range(len(horizon_distribution)):\n",
    "    if horizon_distribution[i] == sorted_horizon_distribution[-1]:\n",
    "        left = i\n",
    "    if horizon_distribution[i] == sorted_horizon_distribution[-2]:\n",
    "        right = i\n",
    "left, right"
   ]
  },
  {
   "cell_type": "code",
   "execution_count": 21,
   "metadata": {
    "ExecuteTime": {
     "end_time": "2022-04-09T07:11:42.336968Z",
     "start_time": "2022-04-09T07:11:42.332444Z"
    }
   },
   "outputs": [
    {
     "name": "stdout",
     "output_type": "stream",
     "text": [
      "[0, 0, 0, 0, 0, 0, 0, 0, 0, 0, 0, 0, 0, 0, 0, 0, 0, 0, 0, 0, 0, 0, 0, 0, 0, 0, 0, 0, 0, 0, 0, 0, 0, 0, 0, 0, 0, 0, 0, 0, 0, 0, 0, 0, 0, 0, 0, 0, 0, 0, 0, 0, 0, 0, 0, 0, 0, 0, 0, 0, 0, 0, 0, 0, 0, 0, 0, 0, 0, 0, 0, 0, 0, 0, 0, 0, 0, 0, 0, 0, 0, 0, 0, 1, 1, 1, 1, 1, 1, 1, 1, 1, 1, 2, 2, 2, 2, 2, 2, 2, 2, 2, 2, 2, 2, 2, 2, 2, 2, 3, 3, 3, 3, 3, 3, 3, 3, 3, 3, 3, 3, 3, 3, 3, 3, 3, 3, 3, 3, 3, 3, 3, 3, 3, 3, 3, 3, 3, 3, 3, 3, 3, 3, 3, 3, 3, 3, 3, 3, 3, 3, 3, 3, 3, 3, 3, 3, 3, 3, 3, 3, 3, 3, 3, 3, 3, 3, 3, 3, 3, 3, 3, 3, 3, 3, 3, 3, 3, 3, 3, 3, 3, 3, 3, 3, 3, 3, 3, 3, 3, 3, 3, 3, 3, 3, 3, 3, 3, 3, 3, 3, 3, 3, 3, 3, 3, 3, 3, 3, 3, 3, 3, 3, 3, 3, 3, 3, 3, 3, 3, 3, 3, 3, 3, 3, 3, 3, 3, 3, 3, 3, 3, 3, 3, 3, 3, 3, 3, 3, 3, 3, 3, 3, 3, 3, 3, 3, 3, 3, 3, 3, 3, 3, 3, 3, 3, 3, 3, 3, 3, 3, 3, 3, 3, 3, 3, 3, 3, 3, 3, 3, 3, 3, 3, 3, 3, 3, 3, 3, 3, 3, 3, 3, 3, 3, 3, 3, 3, 3, 3, 3, 3, 3, 3, 3, 3, 3, 3, 3, 3, 3, 3, 3, 3, 3, 3, 4, 4, 4, 4, 4, 4, 4, 4, 4, 4, 4, 4, 4, 4, 4, 4, 4, 4, 4, 4, 4, 4, 4, 4, 4, 4, 4, 4, 4, 4, 4, 4, 4, 4, 4, 4, 4, 4, 4, 4, 4, 4, 4, 4, 4, 4, 4, 4, 4, 4, 4, 4, 4, 4, 4, 4, 4, 4, 4, 4, 4, 4, 4, 4, 4, 4, 4, 4, 4, 4, 4, 5, 5, 5, 5, 5, 5, 5, 5, 5, 5, 5, 5, 5, 5, 5, 5, 5, 5, 5, 5, 5, 5, 5, 5, 5, 5, 5, 5, 5, 5, 5, 5, 5, 5, 5, 5, 5, 5, 5, 5, 5, 5, 5, 5, 5, 5, 5, 5, 5, 5, 5, 5, 5, 5, 5, 5, 5, 5, 5, 5, 5, 5, 5, 5, 5, 5, 5, 5, 5, 5, 5, 5, 5, 5, 6, 6, 6, 8, 8, 8, 8, 8, 8, 8, 8, 8, 8, 10, 10, 10, 10, 10, 11, 11, 11, 12, 13, 13, 15, 17, 19, 19, 21, 21, 23, 37, 42, 42, 42, 46, 47, 50, 52, 54, 76, 100, 101, 101, 101, 101, 101, 589, 589]\n"
     ]
    },
    {
     "data": {
      "text/plain": [
       "(412, 412)"
      ]
     },
     "execution_count": 21,
     "metadata": {},
     "output_type": "execute_result"
    }
   ],
   "source": [
    "vertical_distribution = np.sum(~img[:,left:], axis=1)\n",
    "sorted_vertical_distribution = sorted(vertical_distribution)\n",
    "print(sorted_vertical_distribution)\n",
    "for i in range(len(vertical_distribution)):\n",
    "    if vertical_distribution[i] == sorted_vertical_distribution[-2]:\n",
    "        top = i\n",
    "    if vertical_distribution[i] == sorted_vertical_distribution[-1]:\n",
    "        bottom = i\n",
    "top, bottom"
   ]
  },
  {
   "cell_type": "code",
   "execution_count": null,
   "metadata": {},
   "outputs": [],
   "source": []
  }
 ],
 "metadata": {
  "kernelspec": {
   "display_name": "Python 3",
   "language": "python",
   "name": "python3"
  },
  "language_info": {
   "codemirror_mode": {
    "name": "ipython",
    "version": 3
   },
   "file_extension": ".py",
   "mimetype": "text/x-python",
   "name": "python",
   "nbconvert_exporter": "python",
   "pygments_lexer": "ipython3",
   "version": "3.7.3"
  },
  "toc": {
   "base_numbering": 1,
   "nav_menu": {},
   "number_sections": true,
   "sideBar": true,
   "skip_h1_title": false,
   "title_cell": "Table of Contents",
   "title_sidebar": "Contents",
   "toc_cell": false,
   "toc_position": {},
   "toc_section_display": true,
   "toc_window_display": false
  },
  "varInspector": {
   "cols": {
    "lenName": 16,
    "lenType": 16,
    "lenVar": 40
   },
   "kernels_config": {
    "python": {
     "delete_cmd_postfix": "",
     "delete_cmd_prefix": "del ",
     "library": "var_list.py",
     "varRefreshCmd": "print(var_dic_list())"
    },
    "r": {
     "delete_cmd_postfix": ") ",
     "delete_cmd_prefix": "rm(",
     "library": "var_list.r",
     "varRefreshCmd": "cat(var_dic_list()) "
    }
   },
   "types_to_exclude": [
    "module",
    "function",
    "builtin_function_or_method",
    "instance",
    "_Feature"
   ],
   "window_display": false
  }
 },
 "nbformat": 4,
 "nbformat_minor": 4
}
