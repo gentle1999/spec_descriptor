{
 "cells": [
  {
   "cell_type": "code",
   "execution_count": 1,
   "metadata": {
    "ExecuteTime": {
     "end_time": "2022-04-21T07:52:13.967957Z",
     "start_time": "2022-04-21T07:52:13.460706Z"
    }
   },
   "outputs": [],
   "source": [
    "import cv2\n",
    "from imutils.perspective import four_point_transform\n",
    "from imutils import contours\n",
    "import imutils\n",
    "import matplotlib.pyplot as plt\n",
    "from skimage import io, color, data, filters\n",
    "import numpy as np\n",
    "import os\n",
    "import shutil"
   ]
  },
  {
   "cell_type": "code",
   "execution_count": 60,
   "metadata": {
    "ExecuteTime": {
     "end_time": "2022-03-03T08:34:35.457723Z",
     "start_time": "2022-03-03T08:34:35.456056Z"
    }
   },
   "outputs": [],
   "source": [
    "data_path = 'sciFinder-spectrum'"
   ]
  },
  {
   "cell_type": "markdown",
   "metadata": {},
   "source": [
    "### Load img and pre-process"
   ]
  },
  {
   "cell_type": "code",
   "execution_count": 61,
   "metadata": {
    "ExecuteTime": {
     "end_time": "2022-03-03T08:34:36.385202Z",
     "start_time": "2022-03-03T08:34:36.275225Z"
    }
   },
   "outputs": [
    {
     "data": {
      "text/plain": [
       "<matplotlib.image.AxesImage at 0x7f3bc7ca69e8>"
      ]
     },
     "execution_count": 61,
     "metadata": {},
     "output_type": "execute_result"
    },
    {
     "data": {
      "image/png": "[encoded data removed]",
      "text/plain": [
       "<Figure size 432x288 with 1 Axes>"
      ]
     },
     "metadata": {
      "needs_background": "light"
     },
     "output_type": "display_data"
    }
   ],
   "source": [
    "img = io.imread('{}/MS/98-56-6.png'.format(data_path))\n",
    "io.imshow(img)"
   ]
  },
  {
   "cell_type": "code",
   "execution_count": 502,
   "metadata": {
    "ExecuteTime": {
     "end_time": "2022-03-14T07:35:38.789824Z",
     "start_time": "2022-03-14T07:35:38.787237Z"
    }
   },
   "outputs": [
    {
     "data": {
      "text/plain": [
       "numpy.ndarray"
      ]
     },
     "execution_count": 502,
     "metadata": {},
     "output_type": "execute_result"
    }
   ],
   "source": [
    "type(img)"
   ]
  },
  {
   "cell_type": "markdown",
   "metadata": {},
   "source": [
    "#### Thresholding"
   ]
  },
  {
   "cell_type": "code",
   "execution_count": 62,
   "metadata": {
    "ExecuteTime": {
     "end_time": "2022-03-03T08:34:38.336124Z",
     "start_time": "2022-03-03T08:34:38.181852Z"
    }
   },
   "outputs": [
    {
     "name": "stderr",
     "output_type": "stream",
     "text": [
      "Lossy conversion from float64 to uint8. Range [0, 1]. Convert image to uint8 prior to saving to suppress this warning.\n",
      "/home/user/miniconda/lib/python3.7/site-packages/ipykernel_launcher.py:24: UserWarning: binary.png is a boolean image: setting True to 255 and False to 0. To silence this warning, please convert the image using img_as_ubyte.\n"
     ]
    },
    {
     "data": {
      "text/plain": [
       "<matplotlib.image.AxesImage at 0x7f3bc7ba0668>"
      ]
     },
     "execution_count": 62,
     "metadata": {},
     "output_type": "execute_result"
    },
    {
     "data": {
      "image/png": "[encoded data removed]",
      "text/plain": [
       "<Figure size 432x288 with 1 Axes>"
      ]
     },
     "metadata": {
      "needs_background": "light"
     },
     "output_type": "display_data"
    }
   ],
   "source": [
    "def Thresholding(img, threshold):\n",
    "    img_gray=color.rgb2gray(img)\n",
    "    rows,cols=img_gray.shape\n",
    "    for i in range(rows):\n",
    "        for j in range(cols):\n",
    "            if (img_gray[i,j]<=threshold):\n",
    "                img_gray[i,j]=0\n",
    "            else:\n",
    "                img_gray[i,j]=1\n",
    "    return img_gray\n",
    "\n",
    "\n",
    "## turn to gray img\n",
    "img_gray = color.rgb2gray(img)\n",
    "\n",
    "io.imsave(\"base_img.png\", img_gray)\n",
    "## get the edge of img\n",
    "edges = filters.sobel(img_gray)\n",
    "\n",
    "thresh = filters.threshold_li(img_gray)\n",
    "\n",
    "binary = img_gray > thresh\n",
    "\n",
    "io.imsave(\"binary.png\", binary)\n",
    "io.imshow(binary)"
   ]
  },
  {
   "cell_type": "markdown",
   "metadata": {
    "ExecuteTime": {
     "end_time": "2022-03-02T07:55:29.169738Z",
     "start_time": "2022-03-02T07:55:29.164430Z"
    }
   },
   "source": [
    "#### Split to three parts\n",
    "\n",
    "- xLabel\n",
    "\n",
    "- yLabel\n",
    "\n",
    "- data content"
   ]
  },
  {
   "cell_type": "code",
   "execution_count": 63,
   "metadata": {
    "ExecuteTime": {
     "end_time": "2022-03-03T08:34:39.349085Z",
     "start_time": "2022-03-03T08:34:39.344790Z"
    }
   },
   "outputs": [
    {
     "data": {
      "text/plain": [
       "[561, 562, 563, 564, 565, 566, 567, 568]"
      ]
     },
     "execution_count": 63,
     "metadata": {},
     "output_type": "execute_result"
    }
   ],
   "source": [
    "## xlabel \n",
    "vertical_distribution = np.sum(~binary, axis=1)\n",
    "vertical_distribution\n",
    "\n",
    "x_splits = []\n",
    "item = []\n",
    "start = False\n",
    "for i in range(len(vertical_distribution)):\n",
    "    if len(item) > 0 and vertical_distribution[i] == 0:\n",
    "        x_splits.append(item)\n",
    "        item = []\n",
    "    if vertical_distribution[i] > 0:\n",
    "        item.append(i)\n",
    "        \n",
    "x_splits[-2] "
   ]
  },
  {
   "cell_type": "code",
   "execution_count": 503,
   "metadata": {
    "ExecuteTime": {
     "end_time": "2022-03-14T08:06:28.020907Z",
     "start_time": "2022-03-14T08:06:27.748217Z"
    }
   },
   "outputs": [
    {
     "name": "stderr",
     "output_type": "stream",
     "text": [
      "/home/user/miniconda/lib/python3.7/site-packages/ipykernel_launcher.py:4: UserWarning: xLabel.png is a boolean image: setting True to 255 and False to 0. To silence this warning, please convert the image using img_as_ubyte.\n",
      "  after removing the cwd from sys.path.\n"
     ]
    },
    {
     "data": {
      "image/png": "[encoded data removed]",
      "text/plain": [
       "<Figure size 432x288 with 1 Axes>"
      ]
     },
     "metadata": {
      "needs_background": "light"
     },
     "output_type": "display_data"
    }
   ],
   "source": [
    "\n",
    "xlabel = binary[x_splits[-2], :]\n",
    "\n",
    "io.imshow(xlabel)\n",
    "io.imsave(\"xLabel.png\", xlabel)"
   ]
  },
  {
   "cell_type": "code",
   "execution_count": 23,
   "metadata": {
    "ExecuteTime": {
     "end_time": "2022-03-03T05:59:27.453562Z",
     "start_time": "2022-03-03T05:59:27.447022Z"
    },
    "scrolled": true
   },
   "outputs": [
    {
     "data": {
      "text/plain": [
       "[31, 32, 33, 34, 35, 36, 37, 38]"
      ]
     },
     "execution_count": 23,
     "metadata": {},
     "output_type": "execute_result"
    }
   ],
   "source": [
    "## ylabel\n",
    "horizon_distribution = np.sum(~binary, axis=0)\n",
    "horizon_distribution\n",
    "\n",
    "y_splits = []\n",
    "item = []\n",
    "start = False\n",
    "for i in range(len(horizon_distribution)):\n",
    "    if len(item) > 0 and horizon_distribution[i] == 0:\n",
    "        y_splits.append(item)\n",
    "        item = []\n",
    "    if horizon_distribution[i] > 0:\n",
    "        item.append(i)\n",
    "        \n",
    "y_splits[1]"
   ]
  },
  {
   "cell_type": "code",
   "execution_count": 24,
   "metadata": {
    "ExecuteTime": {
     "end_time": "2022-03-03T05:59:28.071791Z",
     "start_time": "2022-03-03T05:59:27.999702Z"
    }
   },
   "outputs": [
    {
     "name": "stderr",
     "output_type": "stream",
     "text": [
      "/home/user/miniconda/lib/python3.7/site-packages/ipykernel_launcher.py:3: UserWarning: yLabel.png is a boolean image: setting True to 255 and False to 0. To silence this warning, please convert the image using img_as_ubyte.\n",
      "  This is separate from the ipykernel package so we can avoid doing imports until\n"
     ]
    },
    {
     "data": {
      "image/png": "[encoded data removed]",
      "text/plain": [
       "<Figure size 432x288 with 1 Axes>"
      ]
     },
     "metadata": {
      "needs_background": "light"
     },
     "output_type": "display_data"
    }
   ],
   "source": [
    "ylabel = binary[:, y_splits[1]]\n",
    "io.imshow(ylabel)\n",
    "io.imsave(\"yLabel.png\", ylabel)"
   ]
  },
  {
   "cell_type": "code",
   "execution_count": 408,
   "metadata": {
    "ExecuteTime": {
     "end_time": "2022-03-11T07:03:51.766086Z",
     "start_time": "2022-03-11T07:03:51.524913Z"
    }
   },
   "outputs": [
    {
     "name": "stderr",
     "output_type": "stream",
     "text": [
      "/home/user/miniconda/lib/python3.7/site-packages/skimage/io/_plugins/matplotlib_plugin.py:150: UserWarning: Low image data range; displaying image with stretched contrast.\n",
      "  lo, hi, cmap = _get_display_range(image)\n",
      "/home/user/miniconda/lib/python3.7/site-packages/ipykernel_launcher.py:5: UserWarning: content.png is a boolean image: setting True to 255 and False to 0. To silence this warning, please convert the image using img_as_ubyte.\n",
      "  \"\"\"\n",
      "/home/user/miniconda/lib/python3.7/site-packages/ipykernel_launcher.py:5: UserWarning: content.png is a low contrast image\n",
      "  \"\"\"\n"
     ]
    },
    {
     "data": {
      "image/png": "[encoded data removed]",
      "text/plain": [
       "<Figure size 432x288 with 2 Axes>"
      ]
     },
     "metadata": {
      "needs_background": "light"
     },
     "output_type": "display_data"
    }
   ],
   "source": [
    "## content \n",
    "content = binary[:x_splits[-3][-1], :]\n",
    "content = content[:, y_splits[2][0]:]\n",
    "io.imshow(content)\n",
    "io.imsave(\"content.png\", content)"
   ]
  },
  {
   "cell_type": "markdown",
   "metadata": {},
   "source": [
    "### recognize the label\n",
    "\n",
    "Identify coordinate values and establish the real coordinate system in the picture"
   ]
  },
  {
   "cell_type": "code",
   "execution_count": 44,
   "metadata": {
    "ExecuteTime": {
     "end_time": "2022-03-03T08:16:51.704589Z",
     "start_time": "2022-03-03T08:16:51.581237Z"
    }
   },
   "outputs": [],
   "source": [
    "import easyocr"
   ]
  },
  {
   "cell_type": "code",
   "execution_count": 105,
   "metadata": {
    "ExecuteTime": {
     "end_time": "2022-03-03T08:50:11.291604Z",
     "start_time": "2022-03-03T08:50:09.839947Z"
    }
   },
   "outputs": [],
   "source": [
    "reader = easyocr.Reader(['en'])"
   ]
  },
  {
   "cell_type": "code",
   "execution_count": 106,
   "metadata": {
    "ExecuteTime": {
     "end_time": "2022-03-03T08:50:11.384022Z",
     "start_time": "2022-03-03T08:50:11.306165Z"
    }
   },
   "outputs": [
    {
     "data": {
      "text/plain": [
       "[[[[298, 4], [310, 4], [310, 12], [298, 12]], '30'],\n",
       " [[[377, 3], [399, 3], [399, 15], [377, 15]], '10Q'],\n",
       " [[[419, 3], [441, 3], [441, 15], [419, 15]], '110'],\n",
       " [[[459, 3], [481, 3], [481, 15], [459, 15]], '120'],\n",
       " [[[499, 3], [521, 3], [521, 15], [499, 15]], '130'],\n",
       " [[[542, 4], [560, 4], [560, 12], [542, 12]], '140'],\n",
       " [[[581, 3], [603, 3], [603, 15], [581, 15]], '15Q'],\n",
       " [[[621, 3], [643, 3], [643, 15], [621, 15]], '160'],\n",
       " [[[661, 3], [683, 3], [683, 15], [661, 15]], '170'],\n",
       " [[[703, 3], [725, 3], [725, 15], [703, 15]], '180'],\n",
       " [[[743, 3], [765, 3], [765, 15], [743, 15]], '19Q']]"
      ]
     },
     "execution_count": 106,
     "metadata": {},
     "output_type": "execute_result"
    }
   ],
   "source": [
    "IMAGE_PATH = \"xLabel.png\"\n",
    "xl = io.imread(IMAGE_PATH)\n",
    "\n",
    "result = reader.readtext(IMAGE_PATH, paragraph=\"False\", min_size=1)\n",
    "result"
   ]
  },
  {
   "cell_type": "code",
   "execution_count": 76,
   "metadata": {
    "ExecuteTime": {
     "end_time": "2022-03-03T08:40:58.761809Z",
     "start_time": "2022-03-03T08:40:58.759301Z"
    }
   },
   "outputs": [
    {
     "data": {
      "text/plain": [
       "(20, 800)"
      ]
     },
     "execution_count": 76,
     "metadata": {},
     "output_type": "execute_result"
    }
   ],
   "source": [
    "xl.shape"
   ]
  },
  {
   "cell_type": "markdown",
   "metadata": {},
   "source": [
    "#### train CNN to recognize numbers"
   ]
  },
  {
   "cell_type": "code",
   "execution_count": 2,
   "metadata": {
    "ExecuteTime": {
     "end_time": "2022-04-21T07:52:23.598186Z",
     "start_time": "2022-04-21T07:52:23.148586Z"
    }
   },
   "outputs": [],
   "source": [
    "from torch.utils.data import Dataset, DataLoader\n",
    "from torch import nn\n",
    "from torch import optim\n",
    "import torch, glob\n",
    "import matplotlib.font_manager as fm\n",
    "import torch.nn.functional as F\n",
    "from PIL import Image, ImageFont, ImageDraw\n",
    "from copy import deepcopy\n",
    "import random\n",
    "from skimage import morphology as mo\n",
    "from skimage import transform as tr"
   ]
  },
  {
   "cell_type": "code",
   "execution_count": 3,
   "metadata": {
    "ExecuteTime": {
     "end_time": "2022-04-21T07:52:24.068803Z",
     "start_time": "2022-04-21T07:52:24.033096Z"
    }
   },
   "outputs": [
    {
     "data": {
      "text/plain": [
       "device(type='cuda', index=0)"
      ]
     },
     "execution_count": 3,
     "metadata": {},
     "output_type": "execute_result"
    }
   ],
   "source": [
    "use_cuda = torch.cuda.is_available()\n",
    "device = torch.device(\"cuda:0\" if use_cuda else \"cpu\")\n",
    "device"
   ]
  },
  {
   "cell_type": "markdown",
   "metadata": {},
   "source": [
    "##### generate dataset"
   ]
  },
  {
   "cell_type": "code",
   "execution_count": 7,
   "metadata": {
    "ExecuteTime": {
     "end_time": "2022-04-21T07:52:36.771402Z",
     "start_time": "2022-04-21T07:52:36.760276Z"
    }
   },
   "outputs": [],
   "source": [
    "class LabelDataset(Dataset):#需要继承data.Dataset\n",
    "    def __init__(self,size=100000):\n",
    "        self.tag_set = ['0','1','2','3','4','5','6','7','8','9', '.', ' ', '-']\n",
    "        self.font_files = glob.glob('./font_family/*')\n",
    "        self.x_list = [20,25,30]\n",
    "        self.y_list = [0,1,2,3,4,5,6]\n",
    "        self.size = size\n",
    "        \n",
    "    def __getitem__(self, index):\n",
    "        x = self.random_select(self.x_list)\n",
    "        y = self.random_select(self.y_list)\n",
    "        fn = self.random_select(self.font_files)\n",
    "        tag = self.random_select(self.tag_set)\n",
    "        index = self.tag_set.index(tag)\n",
    "        fm_ = fm.FontProperties(fname=fn)\n",
    "        tag_im = self.gentag(tag,x,y,70,70,'',fm_)\n",
    "        tag_array = np.array(tag_im)\n",
    "        tag_array = tag_array == [255,255,255]\n",
    "        tag_array = np.all(tag_array,axis=2)\n",
    "        tag_array = 1-tag_array.astype(np.float32)\n",
    "        return torch.tensor(tag_array).float(),torch.tensor([index]).long()\n",
    "    \n",
    "    def __len__(self):\n",
    "        # You should change 0 to the total size of your dataset.\n",
    "        return self.size\n",
    "    \n",
    "    def gentag(self, tag,x,y,image_l=250,image_h=40,file='',fm_=fm.FontProperties(family='DejaVu Sans')):\n",
    "        size = self.random_select(label_size)\n",
    "        text = tag\n",
    "        im = Image.new(\"RGB\", (image_l, image_h), (255, 255, 255))\n",
    "        dr = ImageDraw.Draw(im)\n",
    "        font = ImageFont.truetype(fm.findfont(fm_), size)\n",
    "        dr.text((x, y), text, font=font, fill=\"#000000\")\n",
    "        if file != '':\n",
    "            im.save(file)\n",
    "        return im\n",
    "    \n",
    "    @staticmethod\n",
    "    def random_select(items):\n",
    "        rand_idx = random.randint(0,len(items)-1)\n",
    "        return items[rand_idx]\n",
    "    \n",
    "class MyCNN(nn.Module):\n",
    "\n",
    "    def __init__(self, numclasses=3):\n",
    "        super(MyCNN, self).__init__()\n",
    "        self.conv1 = nn.Conv2d(1, 128, kernel_size=3,padding=1,bias=False)\n",
    "        self.conv2 = nn.Conv2d(128, 128, kernel_size=3, padding=2, dilation=2,bias=False,groups=2)\n",
    "        self.conv3 = nn.Conv2d(128, 128, kernel_size=3, padding=4, dilation=4,bias=False,groups=2)\n",
    "        self.conv4 = nn.Conv2d(128, 128, kernel_size=3, padding=4, dilation=4,bias=False,groups=2)\n",
    "        self.pool = nn.AdaptiveMaxPool2d((1,1))\n",
    "        self.lin = nn.Conv2d(128,numclasses,kernel_size=1)\n",
    "        #self.lin2 = nn.Linear(128,numclasses)\n",
    "\n",
    "    def forward(self, x):\n",
    "\n",
    "        x = x.unsqueeze(1)\n",
    "        x = F.relu(self.conv1(x))\n",
    "        x = F.relu(self.conv2(x))\n",
    "        x = F.relu(self.conv3(x))\n",
    "        x = self.pool(x)\n",
    "        x = self.lin(x)\n",
    "        x = x.squeeze(2)\n",
    "        x = x.squeeze(2)\n",
    "        return x"
   ]
  },
  {
   "cell_type": "code",
   "execution_count": 8,
   "metadata": {
    "ExecuteTime": {
     "end_time": "2022-04-21T07:52:37.458938Z",
     "start_time": "2022-04-21T07:52:37.449307Z"
    }
   },
   "outputs": [
    {
     "data": {
      "text/plain": [
       "['./font_family/ARIALN.TTF',\n",
       " './font_family/ARIALNI.TTF',\n",
       " './font_family/ARIALNBI.TTF',\n",
       " './font_family/TIMESBD.TTF',\n",
       " './font_family/ARIALI.TTF',\n",
       " './font_family/ARIALBI.TTF',\n",
       " './font_family/TIMES.TTF',\n",
       " './font_family/ARIALNB.TTF',\n",
       " './font_family/TIMESI.TTF',\n",
       " './font_family/ARIAL.TTF',\n",
       " './font_family/TIMESBI.TTF',\n",
       " './font_family/ARIBLK.TTF',\n",
       " './font_family/ARIALBD.TTF']"
      ]
     },
     "execution_count": 8,
     "metadata": {},
     "output_type": "execute_result"
    }
   ],
   "source": [
    "glob.glob('./font_family/*')"
   ]
  },
  {
   "cell_type": "markdown",
   "metadata": {},
   "source": [
    "##### define model"
   ]
  },
  {
   "cell_type": "code",
   "execution_count": 9,
   "metadata": {
    "ExecuteTime": {
     "end_time": "2022-04-21T07:52:42.646162Z",
     "start_time": "2022-04-21T07:52:42.638097Z"
    }
   },
   "outputs": [],
   "source": [
    "label_size = [60,50,40,35,30,25,20]\n",
    "train_label_set = LabelDataset(100000)\n",
    "test_label_set = LabelDataset(10000)\n",
    "train_load = DataLoader(train_label_set,batch_size=256,shuffle=True)\n",
    "test_load = DataLoader(test_label_set,batch_size=256,shuffle=True)\n",
    "recog_label_model = MyCNN(len(train_label_set.tag_set))\n",
    "recog_label_model.to(device)\n",
    "recog_label_model = nn.DataParallel(recog_label_model,device_ids=[0,1])\n",
    "criterion = nn.CrossEntropyLoss()"
   ]
  },
  {
   "cell_type": "code",
   "execution_count": 10,
   "metadata": {
    "ExecuteTime": {
     "end_time": "2022-04-21T07:52:43.062660Z",
     "start_time": "2022-04-21T07:52:43.056916Z"
    }
   },
   "outputs": [
    {
     "data": {
      "text/plain": [
       "13"
      ]
     },
     "execution_count": 10,
     "metadata": {},
     "output_type": "execute_result"
    }
   ],
   "source": [
    "len(train_label_set.tag_set)"
   ]
  },
  {
   "cell_type": "code",
   "execution_count": 11,
   "metadata": {
    "ExecuteTime": {
     "end_time": "2022-04-21T07:52:43.520827Z",
     "start_time": "2022-04-21T07:52:43.514374Z"
    }
   },
   "outputs": [
    {
     "data": {
      "text/plain": [
       "torch.Size([70, 70])"
      ]
     },
     "execution_count": 11,
     "metadata": {},
     "output_type": "execute_result"
    }
   ],
   "source": [
    "train_label_set[0][0].shape"
   ]
  },
  {
   "cell_type": "markdown",
   "metadata": {},
   "source": [
    "##### train CNN"
   ]
  },
  {
   "cell_type": "code",
   "execution_count": 12,
   "metadata": {
    "ExecuteTime": {
     "end_time": "2022-04-21T10:42:22.207361Z",
     "start_time": "2022-04-21T07:52:44.744452Z"
    }
   },
   "outputs": [
    {
     "name": "stdout",
     "output_type": "stream",
     "text": [
      "Epoch:   0 Loss: 0.3528, Accuracy: 0.9424\n",
      "Epoch:   1 Loss: 0.1412, Accuracy: 1.0000\n",
      "Epoch:   2 Loss: 0.1025, Accuracy: 1.0000\n",
      "Epoch:   3 Loss: 0.0705, Accuracy: 1.0000\n",
      "Epoch:   4 Loss: 0.0509, Accuracy: 1.0000\n",
      "Epoch:   5 Loss: 0.0346, Accuracy: 1.0000\n",
      "Epoch:   6 Loss: 0.0249, Accuracy: 1.0000\n",
      "Epoch:   7 Loss: 0.0181, Accuracy: 1.0000\n",
      "Epoch:   8 Loss: 0.0134, Accuracy: 1.0000\n",
      "Epoch:   9 Loss: 0.0100, Accuracy: 1.0000\n",
      "Epoch:  10 Loss: 0.0078, Accuracy: 1.0000\n",
      "Epoch:  11 Loss: 0.0061, Accuracy: 1.0000\n",
      "Epoch:  12 Loss: 0.0049, Accuracy: 1.0000\n",
      "Epoch:  13 Loss: 0.0038, Accuracy: 1.0000\n",
      "Epoch:  14 Loss: 0.0031, Accuracy: 1.0000\n",
      "Epoch:  15 Loss: 0.0025, Accuracy: 1.0000\n",
      "Epoch:  16 Loss: 0.0020, Accuracy: 1.0000\n",
      "Epoch:  17 Loss: 0.0016, Accuracy: 1.0000\n",
      "Epoch:  18 Loss: 0.0014, Accuracy: 1.0000\n",
      "Epoch:  19 Loss: 0.0011, Accuracy: 1.0000\n",
      "Epoch:  20 Loss: 0.0009, Accuracy: 1.0000\n",
      "Epoch:  21 Loss: 0.0007, Accuracy: 1.0000\n",
      "Epoch:  22 Loss: 0.0006, Accuracy: 1.0000\n",
      "Epoch:  23 Loss: 0.0005, Accuracy: 1.0000\n",
      "Epoch:  24 Loss: 0.0004, Accuracy: 1.0000\n",
      "Epoch:  25 Loss: 0.0003, Accuracy: 1.0000\n",
      "Epoch:  26 Loss: 0.0003, Accuracy: 1.0000\n",
      "Epoch:  27 Loss: 0.0002, Accuracy: 1.0000\n",
      "Epoch:  28 Loss: 0.0002, Accuracy: 1.0000\n",
      "Epoch:  29 Loss: 0.0002, Accuracy: 1.0000\n",
      "Epoch:  30 Loss: 0.0001, Accuracy: 1.0000\n",
      "Epoch:  31 Loss: 0.0001, Accuracy: 1.0000\n",
      "Epoch:  32 Loss: 0.0001, Accuracy: 1.0000\n",
      "Epoch:  33 Loss: 0.0001, Accuracy: 1.0000\n",
      "Epoch:  34 Loss: 0.0001, Accuracy: 1.0000\n",
      "Epoch:  35 Loss: 0.0001, Accuracy: 1.0000\n",
      "Epoch:  36 Loss: 0.0000, Accuracy: 1.0000\n",
      "Epoch:  37 Loss: 0.0000, Accuracy: 1.0000\n",
      "Epoch:  38 Loss: 0.0000, Accuracy: 1.0000\n",
      "Epoch:  39 Loss: 0.0000, Accuracy: 1.0000\n",
      "Epoch:  40 Loss: 0.0000, Accuracy: 1.0000\n",
      "Epoch:  41 Loss: 0.9484, Accuracy: 0.9717\n",
      "Epoch:  42 Loss: 0.0055, Accuracy: 1.0000\n",
      "Epoch:  43 Loss: 0.0017, Accuracy: 1.0000\n",
      "Epoch:  44 Loss: 0.0006, Accuracy: 1.0000\n",
      "Epoch:  45 Loss: 0.0002, Accuracy: 1.0000\n",
      "Epoch:  46 Loss: 0.0001, Accuracy: 1.0000\n",
      "Epoch:  47 Loss: 0.0001, Accuracy: 1.0000\n",
      "Epoch:  48 Loss: 0.0001, Accuracy: 1.0000\n",
      "Epoch:  49 Loss: 0.0000, Accuracy: 1.0000\n"
     ]
    }
   ],
   "source": [
    "learning_rate = 1e-3\n",
    "optimizer = optim.Adam(recog_label_model.parameters(), lr=learning_rate)\n",
    "\n",
    "loss_hist = []\n",
    "all_acc = []\n",
    "for epoch in range(50):\n",
    "    all_pred = []\n",
    "    all_tag = []\n",
    "    all_loss = []\n",
    "    for idx,tmp_load in enumerate(train_load):\n",
    "        optimizer.zero_grad()\n",
    "        input_tensor = tmp_load[0].to(device)\n",
    "        tag_tensor = tmp_load[1].to(device).squeeze()\n",
    "        output = recog_label_model(input_tensor)\n",
    "        \n",
    "        predict = output.detach().cpu().topk(1)[1].view(-1).numpy()\n",
    "        target = tag_tensor.detach().cpu().numpy()\n",
    "        \n",
    "        loss = criterion(output,tag_tensor)\n",
    "        loss.backward()\n",
    "        optimizer.step()\n",
    "        loss_hist.append(loss)\n",
    "        all_loss.append(loss.detach().cpu())\n",
    "        all_pred.append(predict)\n",
    "        all_tag.append(target)\n",
    "        #break\n",
    "    all_pred = np.concatenate(all_pred)\n",
    "    all_tag = np.concatenate(all_tag)\n",
    "    accuracy = np.mean(all_tag == all_pred)\n",
    "    all_acc.append(accuracy)\n",
    "    print('Epoch: %3d Loss: %.4f, Accuracy: %.4f'%(epoch,np.mean(all_loss),accuracy))\n",
    "    torch.save(recog_label_model.state_dict(),'./model/recog_label_model.pth')\n",
    "    #break"
   ]
  },
  {
   "cell_type": "code",
   "execution_count": 13,
   "metadata": {
    "ExecuteTime": {
     "end_time": "2022-04-21T10:42:38.783051Z",
     "start_time": "2022-04-21T10:42:38.429747Z"
    }
   },
   "outputs": [
    {
     "name": "stdout",
     "output_type": "stream",
     "text": [
      "Thu Apr 21 10:42:38 2022       \r\n",
      "+-----------------------------------------------------------------------------+\r\n",
      "| NVIDIA-SMI 470.57.02    Driver Version: 470.57.02    CUDA Version: 11.4     |\r\n",
      "|-------------------------------+----------------------+----------------------+\r\n",
      "| GPU  Name        Persistence-M| Bus-Id        Disp.A | Volatile Uncorr. ECC |\r\n",
      "| Fan  Temp  Perf  Pwr:Usage/Cap|         Memory-Usage | GPU-Util  Compute M. |\r\n",
      "|                               |                      |               MIG M. |\r\n",
      "|===============================+======================+======================|\r\n",
      "|   0  NVIDIA GeForce ...  Off  | 00000000:02:00.0 Off |                  N/A |\r\n",
      "| 85%   71C    P2    53W / 215W |   6691MiB /  7979MiB |     19%      Default |\r\n",
      "|                               |                      |                  N/A |\r\n",
      "+-------------------------------+----------------------+----------------------+\r\n",
      "|   1  NVIDIA GeForce ...  Off  | 00000000:04:00.0 Off |                  N/A |\r\n",
      "| 70%   64C    P2    47W / 215W |   7624MiB /  7982MiB |      0%      Default |\r\n",
      "|                               |                      |                  N/A |\r\n",
      "+-------------------------------+----------------------+----------------------+\r\n",
      "                                                                               \r\n",
      "+-----------------------------------------------------------------------------+\r\n",
      "| Processes:                                                                  |\r\n",
      "|  GPU   GI   CI        PID   Type   Process name                  GPU Memory |\r\n",
      "|        ID   ID                                                   Usage      |\r\n",
      "|=============================================================================|\r\n",
      "+-----------------------------------------------------------------------------+\r\n"
     ]
    }
   ],
   "source": [
    "!nvidia-smi"
   ]
  },
  {
   "cell_type": "markdown",
   "metadata": {},
   "source": [
    "##### model evaluation"
   ]
  },
  {
   "cell_type": "code",
   "execution_count": 13,
   "metadata": {
    "ExecuteTime": {
     "end_time": "2022-04-12T04:06:36.968542Z",
     "start_time": "2022-04-12T04:06:30.688287Z"
    }
   },
   "outputs": [],
   "source": [
    "recog_label_model.eval()\n",
    "all_pred = []\n",
    "all_tag = []\n",
    "for idx,tmp_load in enumerate(test_load):\n",
    "    input_tensor = tmp_load[0].to(device)\n",
    "    tag_tensor = tmp_load[1].to(device).squeeze()\n",
    "    output = recog_label_model(input_tensor)\n",
    "    predict = output.detach().cpu().topk(1)[1].view(-1).numpy()\n",
    "    target = tag_tensor.detach().cpu().numpy()\n",
    "    all_pred.append(predict)\n",
    "    all_tag.append(target)\n",
    "all_pred = np.concatenate(all_pred)\n",
    "all_tag = np.concatenate(all_tag)\n",
    "accuracy = np.mean(all_tag == all_pred)"
   ]
  },
  {
   "cell_type": "code",
   "execution_count": 14,
   "metadata": {
    "ExecuteTime": {
     "end_time": "2022-04-12T04:06:48.282271Z",
     "start_time": "2022-04-12T04:06:48.279843Z"
    }
   },
   "outputs": [
    {
     "data": {
      "text/plain": [
       "array([ 3,  3, 10, ...,  0,  6,  9])"
      ]
     },
     "execution_count": 14,
     "metadata": {},
     "output_type": "execute_result"
    }
   ],
   "source": [
    "all_tag"
   ]
  },
  {
   "cell_type": "code",
   "execution_count": 15,
   "metadata": {
    "ExecuteTime": {
     "end_time": "2022-04-12T04:06:59.604502Z",
     "start_time": "2022-04-12T04:06:59.602555Z"
    }
   },
   "outputs": [
    {
     "name": "stdout",
     "output_type": "stream",
     "text": [
      "Test Acc: 1.0000\n"
     ]
    }
   ],
   "source": [
    "print('Test Acc: %.4f'%accuracy)"
   ]
  },
  {
   "cell_type": "code",
   "execution_count": 16,
   "metadata": {
    "ExecuteTime": {
     "end_time": "2022-04-12T04:07:10.859228Z",
     "start_time": "2022-04-12T04:07:10.856438Z"
    },
    "scrolled": true
   },
   "outputs": [
    {
     "data": {
      "text/plain": [
       "[0.99996,\n",
       " 1.0,\n",
       " 1.0,\n",
       " 1.0,\n",
       " 1.0,\n",
       " 1.0,\n",
       " 0.99531,\n",
       " 1.0,\n",
       " 1.0,\n",
       " 1.0,\n",
       " 1.0,\n",
       " 1.0,\n",
       " 1.0,\n",
       " 1.0,\n",
       " 1.0,\n",
       " 1.0,\n",
       " 1.0,\n",
       " 1.0,\n",
       " 1.0,\n",
       " 1.0,\n",
       " 1.0,\n",
       " 1.0,\n",
       " 1.0,\n",
       " 1.0,\n",
       " 1.0,\n",
       " 1.0,\n",
       " 1.0,\n",
       " 1.0,\n",
       " 1.0,\n",
       " 1.0,\n",
       " 1.0,\n",
       " 1.0,\n",
       " 1.0,\n",
       " 1.0,\n",
       " 1.0,\n",
       " 1.0,\n",
       " 1.0,\n",
       " 1.0,\n",
       " 1.0,\n",
       " 1.0,\n",
       " 1.0,\n",
       " 1.0,\n",
       " 1.0,\n",
       " 1.0,\n",
       " 1.0,\n",
       " 1.0,\n",
       " 1.0,\n",
       " 1.0,\n",
       " 1.0,\n",
       " 1.0]"
      ]
     },
     "execution_count": 16,
     "metadata": {},
     "output_type": "execute_result"
    }
   ],
   "source": [
    "all_acc"
   ]
  },
  {
   "cell_type": "code",
   "execution_count": 18,
   "metadata": {
    "ExecuteTime": {
     "end_time": "2022-04-12T04:07:33.593130Z",
     "start_time": "2022-04-12T04:07:33.498807Z"
    }
   },
   "outputs": [
    {
     "name": "stdout",
     "output_type": "stream",
     "text": [
      "Predict label is: ., Truth label is: .\n"
     ]
    },
    {
     "data": {
      "text/plain": [
       "<matplotlib.image.AxesImage at 0x7f7e46633358>"
      ]
     },
     "execution_count": 18,
     "metadata": {},
     "output_type": "execute_result"
    },
    {
     "data": {
      "image/png": "[encoded data removed]",
      "text/plain": [
       "<Figure size 288x288 with 1 Axes>"
      ]
     },
     "metadata": {
      "needs_background": "light"
     },
     "output_type": "display_data"
    }
   ],
   "source": [
    "idx = 3\n",
    "print('Predict label is: %s, Truth label is: %s'%(train_label_set.tag_set[predict[idx]],train_label_set.tag_set[target[idx]]))\n",
    "plt.matshow(input_tensor[idx].detach().cpu())"
   ]
  },
  {
   "cell_type": "markdown",
   "metadata": {},
   "source": [
    "#### split xLabel to blocks"
   ]
  },
  {
   "cell_type": "code",
   "execution_count": 161,
   "metadata": {
    "ExecuteTime": {
     "end_time": "2022-03-08T08:31:56.966627Z",
     "start_time": "2022-03-08T08:31:56.964319Z"
    }
   },
   "outputs": [],
   "source": [
    "def resizefig(array,x_bias,y_bias,canvas_size=1000):\n",
    "    x,y = array.shape\n",
    "    canvas = np.zeros((canvas_size,canvas_size))\n",
    "\n",
    "    canvas[x_bias:x+x_bias,y_bias:y+y_bias] = array\n",
    "    return canvas"
   ]
  },
  {
   "cell_type": "code",
   "execution_count": 144,
   "metadata": {
    "ExecuteTime": {
     "end_time": "2022-03-08T08:11:51.463394Z",
     "start_time": "2022-03-08T08:11:51.371975Z"
    }
   },
   "outputs": [
    {
     "data": {
      "text/plain": [
       "<matplotlib.image.AxesImage at 0x7f3bac6a1048>"
      ]
     },
     "execution_count": 144,
     "metadata": {},
     "output_type": "execute_result"
    },
    {
     "data": {
      "image/png": "[encoded data removed]",
      "text/plain": [
       "<Figure size 432x288 with 1 Axes>"
      ]
     },
     "metadata": {
      "needs_background": "light"
     },
     "output_type": "display_data"
    }
   ],
   "source": [
    "xlabel_cut = ~xlabel\n",
    "io.imshow(xlabel_cut)"
   ]
  },
  {
   "cell_type": "code",
   "execution_count": 167,
   "metadata": {
    "ExecuteTime": {
     "end_time": "2022-03-08T08:39:15.258374Z",
     "start_time": "2022-03-08T08:39:15.181279Z"
    }
   },
   "outputs": [
    {
     "data": {
      "text/plain": [
       "<matplotlib.image.AxesImage at 0x7f3ce8b836d8>"
      ]
     },
     "execution_count": 167,
     "metadata": {},
     "output_type": "execute_result"
    },
    {
     "data": {
      "image/png": "[encoded data removed]",
      "text/plain": [
       "<Figure size 432x288 with 1 Axes>"
      ]
     },
     "metadata": {
      "needs_background": "light"
     },
     "output_type": "display_data"
    }
   ],
   "source": [
    "kernel = mo.disk(2)\n",
    "dilated = mo.binary_dilation(xlabel_cut, kernel)\n",
    "io.imshow(dilated)"
   ]
  },
  {
   "cell_type": "code",
   "execution_count": 168,
   "metadata": {
    "ExecuteTime": {
     "end_time": "2022-03-08T08:39:26.814140Z",
     "start_time": "2022-03-08T08:39:26.811187Z"
    }
   },
   "outputs": [],
   "source": [
    "## split xLabel\n",
    "horizon_distribution = np.sum(dilated, axis=0)\n",
    "horizon_distribution\n",
    "\n",
    "x_label_splits = []\n",
    "item = []\n",
    "start = False\n",
    "for i in range(len(horizon_distribution)):\n",
    "    if len(item) > 0 and horizon_distribution[i] == 0:\n",
    "        x_label_splits.append(item)\n",
    "        item = []\n",
    "    if horizon_distribution[i] > 0:\n",
    "        item.append(i)"
   ]
  },
  {
   "cell_type": "code",
   "execution_count": 169,
   "metadata": {
    "ExecuteTime": {
     "end_time": "2022-03-08T08:39:38.606923Z",
     "start_time": "2022-03-08T08:39:38.599879Z"
    }
   },
   "outputs": [
    {
     "data": {
      "text/plain": [
       "[[53, 54, 55, 56, 57, 58, 59, 60, 61, 62, 63, 64, 65, 66, 67],\n",
       " [93, 94, 95, 96, 97, 98, 99, 100, 101, 102, 103, 104, 105, 106, 107],\n",
       " [134, 135, 136, 137, 138, 139, 140, 141, 142, 143, 144, 145, 146, 147, 148],\n",
       " [174, 175, 176, 177, 178, 179, 180, 181, 182, 183, 184, 185, 186, 187, 188],\n",
       " [215, 216, 217, 218, 219, 220, 221, 222, 223, 224, 225, 226, 227, 228, 229],\n",
       " [255, 256, 257, 258, 259, 260, 261, 262, 263, 264, 265, 266, 267, 268, 269],\n",
       " [296, 297, 298, 299, 300, 301, 302, 303, 304, 305, 306, 307, 308, 309, 310],\n",
       " [337, 338, 339, 340, 341, 342, 343, 344, 345, 346, 347, 348, 349, 350, 351],\n",
       " [377,\n",
       "  378,\n",
       "  379,\n",
       "  380,\n",
       "  381,\n",
       "  382,\n",
       "  383,\n",
       "  384,\n",
       "  385,\n",
       "  386,\n",
       "  387,\n",
       "  388,\n",
       "  389,\n",
       "  390,\n",
       "  391,\n",
       "  392,\n",
       "  393,\n",
       "  394,\n",
       "  395,\n",
       "  396,\n",
       "  397],\n",
       " [418,\n",
       "  419,\n",
       "  420,\n",
       "  421,\n",
       "  422,\n",
       "  423,\n",
       "  424,\n",
       "  425,\n",
       "  426,\n",
       "  427,\n",
       "  428,\n",
       "  429,\n",
       "  430,\n",
       "  431,\n",
       "  432,\n",
       "  433,\n",
       "  434,\n",
       "  435,\n",
       "  436,\n",
       "  437,\n",
       "  438],\n",
       " [458,\n",
       "  459,\n",
       "  460,\n",
       "  461,\n",
       "  462,\n",
       "  463,\n",
       "  464,\n",
       "  465,\n",
       "  466,\n",
       "  467,\n",
       "  468,\n",
       "  469,\n",
       "  470,\n",
       "  471,\n",
       "  472,\n",
       "  473,\n",
       "  474,\n",
       "  475,\n",
       "  476,\n",
       "  477,\n",
       "  478],\n",
       " [499,\n",
       "  500,\n",
       "  501,\n",
       "  502,\n",
       "  503,\n",
       "  504,\n",
       "  505,\n",
       "  506,\n",
       "  507,\n",
       "  508,\n",
       "  509,\n",
       "  510,\n",
       "  511,\n",
       "  512,\n",
       "  513,\n",
       "  514,\n",
       "  515,\n",
       "  516,\n",
       "  517,\n",
       "  518,\n",
       "  519],\n",
       " [540,\n",
       "  541,\n",
       "  542,\n",
       "  543,\n",
       "  544,\n",
       "  545,\n",
       "  546,\n",
       "  547,\n",
       "  548,\n",
       "  549,\n",
       "  550,\n",
       "  551,\n",
       "  552,\n",
       "  553,\n",
       "  554,\n",
       "  555,\n",
       "  556,\n",
       "  557,\n",
       "  558,\n",
       "  559,\n",
       "  560],\n",
       " [580,\n",
       "  581,\n",
       "  582,\n",
       "  583,\n",
       "  584,\n",
       "  585,\n",
       "  586,\n",
       "  587,\n",
       "  588,\n",
       "  589,\n",
       "  590,\n",
       "  591,\n",
       "  592,\n",
       "  593,\n",
       "  594,\n",
       "  595,\n",
       "  596,\n",
       "  597,\n",
       "  598,\n",
       "  599,\n",
       "  600],\n",
       " [621,\n",
       "  622,\n",
       "  623,\n",
       "  624,\n",
       "  625,\n",
       "  626,\n",
       "  627,\n",
       "  628,\n",
       "  629,\n",
       "  630,\n",
       "  631,\n",
       "  632,\n",
       "  633,\n",
       "  634,\n",
       "  635,\n",
       "  636,\n",
       "  637,\n",
       "  638,\n",
       "  639,\n",
       "  640,\n",
       "  641],\n",
       " [661,\n",
       "  662,\n",
       "  663,\n",
       "  664,\n",
       "  665,\n",
       "  666,\n",
       "  667,\n",
       "  668,\n",
       "  669,\n",
       "  670,\n",
       "  671,\n",
       "  672,\n",
       "  673,\n",
       "  674,\n",
       "  675,\n",
       "  676,\n",
       "  677,\n",
       "  678,\n",
       "  679,\n",
       "  680,\n",
       "  681],\n",
       " [702,\n",
       "  703,\n",
       "  704,\n",
       "  705,\n",
       "  706,\n",
       "  707,\n",
       "  708,\n",
       "  709,\n",
       "  710,\n",
       "  711,\n",
       "  712,\n",
       "  713,\n",
       "  714,\n",
       "  715,\n",
       "  716,\n",
       "  717,\n",
       "  718,\n",
       "  719,\n",
       "  720,\n",
       "  721,\n",
       "  722],\n",
       " [743,\n",
       "  744,\n",
       "  745,\n",
       "  746,\n",
       "  747,\n",
       "  748,\n",
       "  749,\n",
       "  750,\n",
       "  751,\n",
       "  752,\n",
       "  753,\n",
       "  754,\n",
       "  755,\n",
       "  756,\n",
       "  757,\n",
       "  758,\n",
       "  759,\n",
       "  760,\n",
       "  761,\n",
       "  762,\n",
       "  763]]"
      ]
     },
     "execution_count": 169,
     "metadata": {},
     "output_type": "execute_result"
    }
   ],
   "source": [
    "x_label_splits"
   ]
  },
  {
   "cell_type": "code",
   "execution_count": 184,
   "metadata": {
    "ExecuteTime": {
     "end_time": "2022-03-08T08:43:05.014601Z",
     "start_time": "2022-03-08T08:43:05.012541Z"
    }
   },
   "outputs": [],
   "source": [
    "## x_label_splits : the numbers x list\n",
    "xLabels = []\n",
    "for i in x_label_splits:\n",
    "    xLabels.append(~xlabel[:, i])\n"
   ]
  },
  {
   "cell_type": "code",
   "execution_count": 185,
   "metadata": {
    "ExecuteTime": {
     "end_time": "2022-03-08T08:43:16.311667Z",
     "start_time": "2022-03-08T08:43:16.221782Z"
    }
   },
   "outputs": [
    {
     "data": {
      "text/plain": [
       "<matplotlib.image.AxesImage at 0x7f3bac74dcf8>"
      ]
     },
     "execution_count": 185,
     "metadata": {},
     "output_type": "execute_result"
    },
    {
     "data": {
      "image/png": "[encoded data removed]",
      "text/plain": [
       "<Figure size 432x288 with 1 Axes>"
      ]
     },
     "metadata": {
      "needs_background": "light"
     },
     "output_type": "display_data"
    }
   ],
   "source": [
    "io.imshow(xLabels[10])"
   ]
  },
  {
   "cell_type": "code",
   "execution_count": 188,
   "metadata": {
    "ExecuteTime": {
     "end_time": "2022-03-08T09:56:54.747185Z",
     "start_time": "2022-03-08T09:56:54.744142Z"
    }
   },
   "outputs": [],
   "source": [
    "x_Numbers = []\n",
    "for i in xLabels:\n",
    "    x_numbers = []\n",
    "    horizon_distribution = np.sum(i, axis=0)\n",
    "    item = []\n",
    "    start = False\n",
    "    for j in range(len(horizon_distribution)):\n",
    "        if len(item) > 0 and horizon_distribution[j] == 0:\n",
    "            x_numbers.append(item)\n",
    "            item = []\n",
    "        if horizon_distribution[j] > 0:\n",
    "            item.append(j)\n",
    "    x_Numbers.append(x_numbers)\n"
   ]
  },
  {
   "cell_type": "code",
   "execution_count": 263,
   "metadata": {
    "ExecuteTime": {
     "end_time": "2022-03-10T02:25:28.328813Z",
     "start_time": "2022-03-10T02:25:28.195817Z"
    }
   },
   "outputs": [
    {
     "data": {
      "text/plain": [
       "<matplotlib.image.AxesImage at 0x7f3ad02c65f8>"
      ]
     },
     "execution_count": 263,
     "metadata": {},
     "output_type": "execute_result"
    },
    {
     "data": {
      "image/png": "[encoded data removed]",
      "text/plain": [
       "<Figure size 432x288 with 1 Axes>"
      ]
     },
     "metadata": {
      "needs_background": "light"
     },
     "output_type": "display_data"
    }
   ],
   "source": [
    "io.imshow(tr.rescale(xLabels[0][:, x_Numbers[0][1]], 2))"
   ]
  },
  {
   "cell_type": "code",
   "execution_count": 190,
   "metadata": {
    "ExecuteTime": {
     "end_time": "2022-03-08T09:57:29.546052Z",
     "start_time": "2022-03-08T09:57:29.539882Z"
    }
   },
   "outputs": [
    {
     "data": {
      "text/plain": [
       "[[[2, 3, 4, 5, 6], [8, 9, 10, 11, 12]],\n",
       " [[2, 3, 4, 5, 6], [8, 9, 10, 11, 12]],\n",
       " [[2, 3, 4, 5, 6], [8, 9, 10, 11, 12]],\n",
       " [[2, 3, 4, 5, 6], [8, 9, 10, 11, 12]],\n",
       " [[2, 3, 4, 5, 6], [8, 9, 10, 11, 12]],\n",
       " [[2, 3, 4, 5, 6], [8, 9, 10, 11, 12]],\n",
       " [[2, 3, 4, 5, 6], [8, 9, 10, 11, 12]],\n",
       " [[2, 3, 4, 5, 6], [8, 9, 10, 11, 12]],\n",
       " [[2, 3, 4, 5, 6], [8, 9, 10, 11, 12], [14, 15, 16, 17, 18]],\n",
       " [[2, 3, 4, 5, 6], [8, 9, 10, 11, 12], [14, 15, 16, 17, 18]],\n",
       " [[2, 3, 4, 5, 6], [8, 9, 10, 11, 12], [14, 15, 16, 17, 18]],\n",
       " [[2, 3, 4, 5, 6], [8, 9, 10, 11, 12], [14, 15, 16, 17, 18]],\n",
       " [[2, 3, 4, 5, 6], [8, 9, 10, 11, 12], [14, 15, 16, 17, 18]],\n",
       " [[2, 3, 4, 5, 6], [8, 9, 10, 11, 12], [14, 15, 16, 17, 18]],\n",
       " [[2, 3, 4, 5, 6], [8, 9, 10, 11, 12], [14, 15, 16, 17, 18]],\n",
       " [[2, 3, 4, 5, 6], [8, 9, 10, 11, 12], [14, 15, 16, 17, 18]],\n",
       " [[2, 3, 4, 5, 6], [8, 9, 10, 11, 12], [14, 15, 16, 17, 18]],\n",
       " [[2, 3, 4, 5, 6], [8, 9, 10, 11, 12], [14, 15, 16, 17, 18]]]"
      ]
     },
     "execution_count": 190,
     "metadata": {},
     "output_type": "execute_result"
    }
   ],
   "source": [
    "x_Numbers"
   ]
  },
  {
   "cell_type": "markdown",
   "metadata": {},
   "source": [
    "#### split yLabel to blocks"
   ]
  },
  {
   "cell_type": "code",
   "execution_count": 347,
   "metadata": {
    "ExecuteTime": {
     "end_time": "2022-03-10T07:28:32.246633Z",
     "start_time": "2022-03-10T07:28:32.072887Z"
    }
   },
   "outputs": [
    {
     "name": "stderr",
     "output_type": "stream",
     "text": [
      "/home/user/miniconda/lib/python3.7/site-packages/ipykernel_launcher.py:5: UserWarning: y_rotated.png is a boolean image: setting True to 255 and False to 0. To silence this warning, please convert the image using img_as_ubyte.\n",
      "  \"\"\"\n"
     ]
    },
    {
     "data": {
      "image/png": "[encoded data removed]",
      "text/plain": [
       "<Figure size 432x288 with 1 Axes>"
      ]
     },
     "metadata": {
      "needs_background": "light"
     },
     "output_type": "display_data"
    }
   ],
   "source": [
    "ylabel_cut = ~ylabel\n",
    "y_rotated = tr.rotate(ylabel_cut, angle=-90, resize=True)\n",
    "y_rotated = np.array(y_rotated, dtype=bool)\n",
    "io.imshow(y_rotated)\n",
    "io.imsave(\"y_rotated.png\", y_rotated)"
   ]
  },
  {
   "cell_type": "code",
   "execution_count": 348,
   "metadata": {
    "ExecuteTime": {
     "end_time": "2022-03-10T07:28:45.210159Z",
     "start_time": "2022-03-10T07:28:45.138909Z"
    }
   },
   "outputs": [
    {
     "data": {
      "text/plain": [
       "<matplotlib.image.AxesImage at 0x7f39b024fcf8>"
      ]
     },
     "execution_count": 348,
     "metadata": {},
     "output_type": "execute_result"
    },
    {
     "data": {
      "image/png": "[encoded data removed]",
      "text/plain": [
       "<Figure size 432x288 with 1 Axes>"
      ]
     },
     "metadata": {
      "needs_background": "light"
     },
     "output_type": "display_data"
    }
   ],
   "source": [
    "kernel = mo.disk(2)\n",
    "y_dilated = mo.binary_dilation(y_rotated, kernel)\n",
    "io.imshow(y_dilated)"
   ]
  },
  {
   "cell_type": "code",
   "execution_count": 349,
   "metadata": {
    "ExecuteTime": {
     "end_time": "2022-03-10T07:28:57.878114Z",
     "start_time": "2022-03-10T07:28:57.874865Z"
    }
   },
   "outputs": [],
   "source": [
    "## split yLabel\n",
    "horizon_distribution = np.sum(y_dilated, axis=0)\n",
    "\n",
    "y_label_splits = []\n",
    "item = []\n",
    "start = False\n",
    "for i in range(len(horizon_distribution)):\n",
    "    if len(item) > 0 and horizon_distribution[i] == 0:\n",
    "        y_label_splits.append(item)\n",
    "        item = []\n",
    "    if horizon_distribution[i] > 0:\n",
    "        item.append(i)"
   ]
  },
  {
   "cell_type": "code",
   "execution_count": 350,
   "metadata": {
    "ExecuteTime": {
     "end_time": "2022-03-10T07:29:12.364469Z",
     "start_time": "2022-03-10T07:29:12.361337Z"
    }
   },
   "outputs": [
    {
     "data": {
      "text/plain": [
       "[[42, 43, 44, 45, 46, 47, 48, 49, 50],\n",
       " [167, 168, 169, 170, 171, 172, 173, 174, 175, 176, 177, 178, 179, 180, 181],\n",
       " [292, 293, 294, 295, 296, 297, 298, 299, 300, 301, 302, 303, 304, 305, 306],\n",
       " [417, 418, 419, 420, 421, 422, 423, 424, 425, 426, 427, 428, 429, 430, 431],\n",
       " [542,\n",
       "  543,\n",
       "  544,\n",
       "  545,\n",
       "  546,\n",
       "  547,\n",
       "  548,\n",
       "  549,\n",
       "  550,\n",
       "  551,\n",
       "  552,\n",
       "  553,\n",
       "  554,\n",
       "  555,\n",
       "  556,\n",
       "  557,\n",
       "  558,\n",
       "  559,\n",
       "  560,\n",
       "  561,\n",
       "  562]]"
      ]
     },
     "execution_count": 350,
     "metadata": {},
     "output_type": "execute_result"
    }
   ],
   "source": [
    "y_label_splits"
   ]
  },
  {
   "cell_type": "code",
   "execution_count": 351,
   "metadata": {
    "ExecuteTime": {
     "end_time": "2022-03-10T07:29:25.842796Z",
     "start_time": "2022-03-10T07:29:25.839511Z"
    }
   },
   "outputs": [],
   "source": [
    "## y_label_splits : the numbers y list\n",
    "yLabels = []\n",
    "for i in y_label_splits:\n",
    "    yLabels.append(y_rotated[:, i])\n"
   ]
  },
  {
   "cell_type": "code",
   "execution_count": 352,
   "metadata": {
    "ExecuteTime": {
     "end_time": "2022-03-10T07:29:40.655826Z",
     "start_time": "2022-03-10T07:29:40.516567Z"
    }
   },
   "outputs": [
    {
     "data": {
      "text/plain": [
       "<matplotlib.image.AxesImage at 0x7f39b03a24e0>"
      ]
     },
     "execution_count": 352,
     "metadata": {},
     "output_type": "execute_result"
    },
    {
     "data": {
      "image/png": "[encoded data removed]",
      "text/plain": [
       "<Figure size 432x288 with 1 Axes>"
      ]
     },
     "metadata": {
      "needs_background": "light"
     },
     "output_type": "display_data"
    }
   ],
   "source": [
    "io.imshow(yLabels[2])"
   ]
  },
  {
   "cell_type": "code",
   "execution_count": 353,
   "metadata": {
    "ExecuteTime": {
     "end_time": "2022-03-10T07:29:54.665511Z",
     "start_time": "2022-03-10T07:29:54.662612Z"
    }
   },
   "outputs": [],
   "source": [
    "y_Numbers = []\n",
    "for i in yLabels:\n",
    "    y_numbers = []\n",
    "    horizon_distribution = np.sum(i, axis=0)\n",
    "    item = []\n",
    "    start = False\n",
    "    for j in range(len(horizon_distribution)):\n",
    "        if len(item) > 0 and horizon_distribution[j] == 0:\n",
    "            y_numbers.append(item)\n",
    "            item = []\n",
    "        if horizon_distribution[j] > 0:\n",
    "            item.append(j)\n",
    "    y_Numbers.append(y_numbers)"
   ]
  },
  {
   "cell_type": "code",
   "execution_count": 354,
   "metadata": {
    "ExecuteTime": {
     "end_time": "2022-03-10T07:30:09.975745Z",
     "start_time": "2022-03-10T07:30:09.973175Z"
    }
   },
   "outputs": [
    {
     "data": {
      "text/plain": [
       "array([[False, False, False, False,  True, False, False, False, False],\n",
       "       [False, False, False,  True, False,  True, False, False, False],\n",
       "       [False, False,  True, False, False, False,  True, False, False],\n",
       "       [False, False,  True, False, False, False,  True, False, False],\n",
       "       [False, False,  True, False, False, False,  True, False, False],\n",
       "       [False, False,  True, False, False, False,  True, False, False],\n",
       "       [False, False, False,  True, False,  True, False, False, False],\n",
       "       [False, False, False, False,  True, False, False, False, False]])"
      ]
     },
     "execution_count": 354,
     "metadata": {},
     "output_type": "execute_result"
    }
   ],
   "source": [
    "yLabels[0]"
   ]
  },
  {
   "cell_type": "code",
   "execution_count": 355,
   "metadata": {
    "ExecuteTime": {
     "end_time": "2022-03-10T07:30:24.757544Z",
     "start_time": "2022-03-10T07:30:24.652153Z"
    }
   },
   "outputs": [
    {
     "data": {
      "text/plain": [
       "<matplotlib.image.AxesImage at 0x7f3af052dcf8>"
      ]
     },
     "execution_count": 355,
     "metadata": {},
     "output_type": "execute_result"
    },
    {
     "data": {
      "image/png": "[encoded data removed]",
      "text/plain": [
       "<Figure size 432x288 with 1 Axes>"
      ]
     },
     "metadata": {
      "needs_background": "light"
     },
     "output_type": "display_data"
    }
   ],
   "source": [
    "io.imshow(tr.rescale(yLabels[0][:, y_Numbers[0][0]], 2))"
   ]
  },
  {
   "cell_type": "code",
   "execution_count": 356,
   "metadata": {
    "ExecuteTime": {
     "end_time": "2022-03-10T07:39:03.781116Z",
     "start_time": "2022-03-10T07:39:03.777405Z"
    }
   },
   "outputs": [
    {
     "data": {
      "text/plain": [
       "[[[2, 3, 4, 5, 6]],\n",
       " [[2, 3, 4, 5, 6], [8, 9, 10, 11, 12]],\n",
       " [[2, 3, 4, 5, 6], [8, 9, 10, 11, 12]],\n",
       " [[2, 3, 4, 5, 6], [8, 9, 10, 11, 12]],\n",
       " [[2, 3, 4, 5, 6], [8, 9, 10, 11, 12], [14, 15, 16, 17, 18]]]"
      ]
     },
     "execution_count": 356,
     "metadata": {},
     "output_type": "execute_result"
    }
   ],
   "source": [
    "y_Numbers"
   ]
  },
  {
   "cell_type": "markdown",
   "metadata": {},
   "source": [
    "#### recognize xLabel"
   ]
  },
  {
   "cell_type": "code",
   "execution_count": 265,
   "metadata": {
    "ExecuteTime": {
     "end_time": "2022-03-10T02:26:09.037447Z",
     "start_time": "2022-03-10T02:26:08.990934Z"
    }
   },
   "outputs": [
    {
     "name": "stderr",
     "output_type": "stream",
     "text": [
      "/home/user/miniconda/lib/python3.7/site-packages/ipykernel_launcher.py:5: UserWarning: number_img/0_0.png is a boolean image: setting True to 255 and False to 0. To silence this warning, please convert the image using img_as_ubyte.\n",
      "  \"\"\"\n",
      "/home/user/miniconda/lib/python3.7/site-packages/ipykernel_launcher.py:5: UserWarning: number_img/0_1.png is a boolean image: setting True to 255 and False to 0. To silence this warning, please convert the image using img_as_ubyte.\n",
      "  \"\"\"\n",
      "/home/user/miniconda/lib/python3.7/site-packages/ipykernel_launcher.py:5: UserWarning: number_img/1_0.png is a boolean image: setting True to 255 and False to 0. To silence this warning, please convert the image using img_as_ubyte.\n",
      "  \"\"\"\n",
      "/home/user/miniconda/lib/python3.7/site-packages/ipykernel_launcher.py:5: UserWarning: number_img/1_1.png is a boolean image: setting True to 255 and False to 0. To silence this warning, please convert the image using img_as_ubyte.\n",
      "  \"\"\"\n",
      "/home/user/miniconda/lib/python3.7/site-packages/ipykernel_launcher.py:5: UserWarning: number_img/2_0.png is a boolean image: setting True to 255 and False to 0. To silence this warning, please convert the image using img_as_ubyte.\n",
      "  \"\"\"\n",
      "/home/user/miniconda/lib/python3.7/site-packages/ipykernel_launcher.py:5: UserWarning: number_img/2_1.png is a boolean image: setting True to 255 and False to 0. To silence this warning, please convert the image using img_as_ubyte.\n",
      "  \"\"\"\n",
      "/home/user/miniconda/lib/python3.7/site-packages/ipykernel_launcher.py:5: UserWarning: number_img/3_0.png is a boolean image: setting True to 255 and False to 0. To silence this warning, please convert the image using img_as_ubyte.\n",
      "  \"\"\"\n",
      "/home/user/miniconda/lib/python3.7/site-packages/ipykernel_launcher.py:5: UserWarning: number_img/3_1.png is a boolean image: setting True to 255 and False to 0. To silence this warning, please convert the image using img_as_ubyte.\n",
      "  \"\"\"\n",
      "/home/user/miniconda/lib/python3.7/site-packages/ipykernel_launcher.py:5: UserWarning: number_img/4_0.png is a boolean image: setting True to 255 and False to 0. To silence this warning, please convert the image using img_as_ubyte.\n",
      "  \"\"\"\n",
      "/home/user/miniconda/lib/python3.7/site-packages/ipykernel_launcher.py:5: UserWarning: number_img/4_1.png is a boolean image: setting True to 255 and False to 0. To silence this warning, please convert the image using img_as_ubyte.\n",
      "  \"\"\"\n",
      "/home/user/miniconda/lib/python3.7/site-packages/ipykernel_launcher.py:5: UserWarning: number_img/5_0.png is a boolean image: setting True to 255 and False to 0. To silence this warning, please convert the image using img_as_ubyte.\n",
      "  \"\"\"\n",
      "/home/user/miniconda/lib/python3.7/site-packages/ipykernel_launcher.py:5: UserWarning: number_img/5_1.png is a boolean image: setting True to 255 and False to 0. To silence this warning, please convert the image using img_as_ubyte.\n",
      "  \"\"\"\n",
      "/home/user/miniconda/lib/python3.7/site-packages/ipykernel_launcher.py:5: UserWarning: number_img/6_0.png is a boolean image: setting True to 255 and False to 0. To silence this warning, please convert the image using img_as_ubyte.\n",
      "  \"\"\"\n",
      "/home/user/miniconda/lib/python3.7/site-packages/ipykernel_launcher.py:5: UserWarning: number_img/6_1.png is a boolean image: setting True to 255 and False to 0. To silence this warning, please convert the image using img_as_ubyte.\n",
      "  \"\"\"\n",
      "/home/user/miniconda/lib/python3.7/site-packages/ipykernel_launcher.py:5: UserWarning: number_img/7_0.png is a boolean image: setting True to 255 and False to 0. To silence this warning, please convert the image using img_as_ubyte.\n",
      "  \"\"\"\n",
      "/home/user/miniconda/lib/python3.7/site-packages/ipykernel_launcher.py:5: UserWarning: number_img/7_1.png is a boolean image: setting True to 255 and False to 0. To silence this warning, please convert the image using img_as_ubyte.\n",
      "  \"\"\"\n",
      "/home/user/miniconda/lib/python3.7/site-packages/ipykernel_launcher.py:5: UserWarning: number_img/8_0.png is a boolean image: setting True to 255 and False to 0. To silence this warning, please convert the image using img_as_ubyte.\n",
      "  \"\"\"\n",
      "/home/user/miniconda/lib/python3.7/site-packages/ipykernel_launcher.py:5: UserWarning: number_img/8_1.png is a boolean image: setting True to 255 and False to 0. To silence this warning, please convert the image using img_as_ubyte.\n",
      "  \"\"\"\n",
      "/home/user/miniconda/lib/python3.7/site-packages/ipykernel_launcher.py:5: UserWarning: number_img/8_2.png is a boolean image: setting True to 255 and False to 0. To silence this warning, please convert the image using img_as_ubyte.\n",
      "  \"\"\"\n",
      "/home/user/miniconda/lib/python3.7/site-packages/ipykernel_launcher.py:5: UserWarning: number_img/9_0.png is a boolean image: setting True to 255 and False to 0. To silence this warning, please convert the image using img_as_ubyte.\n",
      "  \"\"\"\n",
      "/home/user/miniconda/lib/python3.7/site-packages/ipykernel_launcher.py:5: UserWarning: number_img/9_1.png is a boolean image: setting True to 255 and False to 0. To silence this warning, please convert the image using img_as_ubyte.\n",
      "  \"\"\"\n",
      "/home/user/miniconda/lib/python3.7/site-packages/ipykernel_launcher.py:5: UserWarning: number_img/9_2.png is a boolean image: setting True to 255 and False to 0. To silence this warning, please convert the image using img_as_ubyte.\n",
      "  \"\"\"\n",
      "/home/user/miniconda/lib/python3.7/site-packages/ipykernel_launcher.py:5: UserWarning: number_img/10_0.png is a boolean image: setting True to 255 and False to 0. To silence this warning, please convert the image using img_as_ubyte.\n",
      "  \"\"\"\n",
      "/home/user/miniconda/lib/python3.7/site-packages/ipykernel_launcher.py:5: UserWarning: number_img/10_1.png is a boolean image: setting True to 255 and False to 0. To silence this warning, please convert the image using img_as_ubyte.\n",
      "  \"\"\"\n",
      "/home/user/miniconda/lib/python3.7/site-packages/ipykernel_launcher.py:5: UserWarning: number_img/10_2.png is a boolean image: setting True to 255 and False to 0. To silence this warning, please convert the image using img_as_ubyte.\n",
      "  \"\"\"\n",
      "/home/user/miniconda/lib/python3.7/site-packages/ipykernel_launcher.py:5: UserWarning: number_img/11_0.png is a boolean image: setting True to 255 and False to 0. To silence this warning, please convert the image using img_as_ubyte.\n",
      "  \"\"\"\n",
      "/home/user/miniconda/lib/python3.7/site-packages/ipykernel_launcher.py:5: UserWarning: number_img/11_1.png is a boolean image: setting True to 255 and False to 0. To silence this warning, please convert the image using img_as_ubyte.\n",
      "  \"\"\"\n",
      "/home/user/miniconda/lib/python3.7/site-packages/ipykernel_launcher.py:5: UserWarning: number_img/11_2.png is a boolean image: setting True to 255 and False to 0. To silence this warning, please convert the image using img_as_ubyte.\n",
      "  \"\"\"\n",
      "/home/user/miniconda/lib/python3.7/site-packages/ipykernel_launcher.py:5: UserWarning: number_img/12_0.png is a boolean image: setting True to 255 and False to 0. To silence this warning, please convert the image using img_as_ubyte.\n",
      "  \"\"\"\n",
      "/home/user/miniconda/lib/python3.7/site-packages/ipykernel_launcher.py:5: UserWarning: number_img/12_1.png is a boolean image: setting True to 255 and False to 0. To silence this warning, please convert the image using img_as_ubyte.\n",
      "  \"\"\"\n",
      "/home/user/miniconda/lib/python3.7/site-packages/ipykernel_launcher.py:5: UserWarning: number_img/12_2.png is a boolean image: setting True to 255 and False to 0. To silence this warning, please convert the image using img_as_ubyte.\n",
      "  \"\"\"\n",
      "/home/user/miniconda/lib/python3.7/site-packages/ipykernel_launcher.py:5: UserWarning: number_img/13_0.png is a boolean image: setting True to 255 and False to 0. To silence this warning, please convert the image using img_as_ubyte.\n",
      "  \"\"\"\n",
      "/home/user/miniconda/lib/python3.7/site-packages/ipykernel_launcher.py:5: UserWarning: number_img/13_1.png is a boolean image: setting True to 255 and False to 0. To silence this warning, please convert the image using img_as_ubyte.\n",
      "  \"\"\"\n",
      "/home/user/miniconda/lib/python3.7/site-packages/ipykernel_launcher.py:5: UserWarning: number_img/13_2.png is a boolean image: setting True to 255 and False to 0. To silence this warning, please convert the image using img_as_ubyte.\n",
      "  \"\"\"\n",
      "/home/user/miniconda/lib/python3.7/site-packages/ipykernel_launcher.py:5: UserWarning: number_img/14_0.png is a boolean image: setting True to 255 and False to 0. To silence this warning, please convert the image using img_as_ubyte.\n",
      "  \"\"\"\n",
      "/home/user/miniconda/lib/python3.7/site-packages/ipykernel_launcher.py:5: UserWarning: number_img/14_1.png is a boolean image: setting True to 255 and False to 0. To silence this warning, please convert the image using img_as_ubyte.\n",
      "  \"\"\"\n",
      "/home/user/miniconda/lib/python3.7/site-packages/ipykernel_launcher.py:5: UserWarning: number_img/14_2.png is a boolean image: setting True to 255 and False to 0. To silence this warning, please convert the image using img_as_ubyte.\n",
      "  \"\"\"\n",
      "/home/user/miniconda/lib/python3.7/site-packages/ipykernel_launcher.py:5: UserWarning: number_img/15_0.png is a boolean image: setting True to 255 and False to 0. To silence this warning, please convert the image using img_as_ubyte.\n",
      "  \"\"\"\n",
      "/home/user/miniconda/lib/python3.7/site-packages/ipykernel_launcher.py:5: UserWarning: number_img/15_1.png is a boolean image: setting True to 255 and False to 0. To silence this warning, please convert the image using img_as_ubyte.\n",
      "  \"\"\"\n",
      "/home/user/miniconda/lib/python3.7/site-packages/ipykernel_launcher.py:5: UserWarning: number_img/15_2.png is a boolean image: setting True to 255 and False to 0. To silence this warning, please convert the image using img_as_ubyte.\n",
      "  \"\"\"\n",
      "/home/user/miniconda/lib/python3.7/site-packages/ipykernel_launcher.py:5: UserWarning: number_img/16_0.png is a boolean image: setting True to 255 and False to 0. To silence this warning, please convert the image using img_as_ubyte.\n",
      "  \"\"\"\n",
      "/home/user/miniconda/lib/python3.7/site-packages/ipykernel_launcher.py:5: UserWarning: number_img/16_1.png is a boolean image: setting True to 255 and False to 0. To silence this warning, please convert the image using img_as_ubyte.\n",
      "  \"\"\"\n",
      "/home/user/miniconda/lib/python3.7/site-packages/ipykernel_launcher.py:5: UserWarning: number_img/16_2.png is a boolean image: setting True to 255 and False to 0. To silence this warning, please convert the image using img_as_ubyte.\n",
      "  \"\"\"\n",
      "/home/user/miniconda/lib/python3.7/site-packages/ipykernel_launcher.py:5: UserWarning: number_img/17_0.png is a boolean image: setting True to 255 and False to 0. To silence this warning, please convert the image using img_as_ubyte.\n",
      "  \"\"\"\n",
      "/home/user/miniconda/lib/python3.7/site-packages/ipykernel_launcher.py:5: UserWarning: number_img/17_1.png is a boolean image: setting True to 255 and False to 0. To silence this warning, please convert the image using img_as_ubyte.\n",
      "  \"\"\"\n",
      "/home/user/miniconda/lib/python3.7/site-packages/ipykernel_launcher.py:5: UserWarning: number_img/17_2.png is a boolean image: setting True to 255 and False to 0. To silence this warning, please convert the image using img_as_ubyte.\n",
      "  \"\"\"\n"
     ]
    }
   ],
   "source": [
    "x_Numbers_resized = []\n",
    "for i in range(len(x_Numbers)):\n",
    "    x_numbers_resized = []\n",
    "    for j in range(len(x_Numbers[i])):\n",
    "        io.imsave(\"number_img/{}_{}.png\".format(i, j), xLabels[i][:, x_Numbers[i][j]])\n",
    "        x_numbers_resized.append(resizefig(tr.rescale(xLabels[i][:, x_Numbers[i][j]],2), 10, 10, 50))\n",
    "    x_Numbers_resized.append(x_numbers_resized)"
   ]
  },
  {
   "cell_type": "code",
   "execution_count": 266,
   "metadata": {
    "ExecuteTime": {
     "end_time": "2022-03-10T02:26:25.501534Z",
     "start_time": "2022-03-10T02:26:25.498352Z"
    }
   },
   "outputs": [
    {
     "data": {
      "text/plain": [
       "array([[0., 0., 0., ..., 0., 0., 0.],\n",
       "       [0., 0., 0., ..., 0., 0., 0.],\n",
       "       [0., 0., 0., ..., 0., 0., 0.],\n",
       "       ...,\n",
       "       [0., 0., 0., ..., 0., 0., 0.],\n",
       "       [0., 0., 0., ..., 0., 0., 0.],\n",
       "       [0., 0., 0., ..., 0., 0., 0.]])"
      ]
     },
     "execution_count": 266,
     "metadata": {},
     "output_type": "execute_result"
    }
   ],
   "source": [
    "x_Numbers_resized[0][0]"
   ]
  },
  {
   "cell_type": "code",
   "execution_count": 268,
   "metadata": {
    "ExecuteTime": {
     "end_time": "2022-03-10T02:26:43.282698Z",
     "start_time": "2022-03-10T02:26:43.142106Z"
    }
   },
   "outputs": [
    {
     "data": {
      "text/plain": [
       "<matplotlib.image.AxesImage at 0x7f3ad0086358>"
      ]
     },
     "execution_count": 268,
     "metadata": {},
     "output_type": "execute_result"
    },
    {
     "data": {
      "image/png": "[encoded data removed]",
      "text/plain": [
       "<Figure size 432x288 with 1 Axes>"
      ]
     },
     "metadata": {
      "needs_background": "light"
     },
     "output_type": "display_data"
    }
   ],
   "source": [
    "io.imshow(x_Numbers_resized[0][0])"
   ]
  },
  {
   "cell_type": "code",
   "execution_count": 269,
   "metadata": {
    "ExecuteTime": {
     "end_time": "2022-03-10T02:27:01.805428Z",
     "start_time": "2022-03-10T02:27:01.802739Z"
    }
   },
   "outputs": [
    {
     "data": {
      "text/plain": [
       "(1, 50, 50)"
      ]
     },
     "execution_count": 269,
     "metadata": {},
     "output_type": "execute_result"
    }
   ],
   "source": [
    "np.expand_dims(x_Numbers_resized[0][0],0).shape"
   ]
  },
  {
   "cell_type": "code",
   "execution_count": 270,
   "metadata": {
    "ExecuteTime": {
     "end_time": "2022-03-10T02:27:08.171246Z",
     "start_time": "2022-03-10T02:27:08.167762Z"
    }
   },
   "outputs": [
    {
     "data": {
      "text/plain": [
       "tensor([[0., 0., 0.,  ..., 0., 0., 0.],\n",
       "        [0., 0., 0.,  ..., 0., 0., 0.],\n",
       "        [0., 0., 0.,  ..., 0., 0., 0.],\n",
       "        ...,\n",
       "        [0., 0., 0.,  ..., 0., 0., 0.],\n",
       "        [0., 0., 0.,  ..., 0., 0., 0.],\n",
       "        [0., 0., 0.,  ..., 0., 0., 0.]], device='cuda:0', dtype=torch.float64)"
      ]
     },
     "execution_count": 270,
     "metadata": {},
     "output_type": "execute_result"
    }
   ],
   "source": [
    "torch.tensor(x_Numbers_resized[0][0]).to(device)"
   ]
  },
  {
   "cell_type": "code",
   "execution_count": 308,
   "metadata": {
    "ExecuteTime": {
     "end_time": "2022-03-10T05:45:22.827578Z",
     "start_time": "2022-03-10T05:45:22.573610Z"
    }
   },
   "outputs": [
    {
     "name": "stdout",
     "output_type": "stream",
     "text": [
      "[0]\n"
     ]
    },
    {
     "data": {
      "text/plain": [
       "<matplotlib.image.AxesImage at 0x7f39b0a93710>"
      ]
     },
     "execution_count": 308,
     "metadata": {},
     "output_type": "execute_result"
    },
    {
     "data": {
      "image/png": "[encoded data removed]",
      "text/plain": [
       "<Figure size 288x288 with 1 Axes>"
      ]
     },
     "metadata": {
      "needs_background": "light"
     },
     "output_type": "display_data"
    }
   ],
   "source": [
    "i,j = 9,2\n",
    "input_tensor = torch.tensor(np.expand_dims(x_Numbers_resized[i][j],0), dtype=torch.float32).to(device)\n",
    "output = recog_label_model(input_tensor)\n",
    "        \n",
    "predict = output.detach().cpu().topk(1)[1].view(-1).numpy()\n",
    "print(predict)\n",
    "plt.matshow(x_Numbers_resized[i][j])"
   ]
  },
  {
   "cell_type": "code",
   "execution_count": 283,
   "metadata": {
    "ExecuteTime": {
     "end_time": "2022-03-10T02:31:19.808896Z",
     "start_time": "2022-03-10T02:31:19.789043Z"
    }
   },
   "outputs": [
    {
     "data": {
      "text/plain": [
       "tensor([[-57.2698, -28.2052, -23.4213, -20.7042, -15.3479, -28.1870, -20.1015,\n",
       "         -29.0066, -21.7198, -16.4542,  -8.0419]], device='cuda:0',\n",
       "       grad_fn=<GatherBackward>)"
      ]
     },
     "execution_count": 283,
     "metadata": {},
     "output_type": "execute_result"
    }
   ],
   "source": [
    "output"
   ]
  },
  {
   "cell_type": "code",
   "execution_count": 281,
   "metadata": {
    "ExecuteTime": {
     "end_time": "2022-03-10T02:30:13.070525Z",
     "start_time": "2022-03-10T02:30:13.050432Z"
    }
   },
   "outputs": [
    {
     "data": {
      "text/plain": [
       "torch.return_types.topk(\n",
       "values=tensor([[-8.0419]]),\n",
       "indices=tensor([[10]]))"
      ]
     },
     "execution_count": 281,
     "metadata": {},
     "output_type": "execute_result"
    }
   ],
   "source": [
    "output.detach().cpu().topk(1)"
   ]
  },
  {
   "cell_type": "code",
   "execution_count": 316,
   "metadata": {
    "ExecuteTime": {
     "end_time": "2022-03-10T05:55:04.357945Z",
     "start_time": "2022-03-10T05:55:04.253840Z"
    }
   },
   "outputs": [],
   "source": [
    "x_recognized = []\n",
    "for i in x_Numbers_resized:\n",
    "    x_recognized_number = []\n",
    "    for j in i:\n",
    "        input_tensor = torch.tensor(np.expand_dims(j ,0), dtype=torch.float32).to(device)\n",
    "        output = recog_label_model(input_tensor)\n",
    "        predict = output.detach().cpu().topk(1)[1].view(-1).numpy()\n",
    "        x_recognized_number.append(str(predict[0]))\n",
    "    digit = \"\".join(x_recognized_number)\n",
    "    x_recognized.append(digit)"
   ]
  },
  {
   "cell_type": "code",
   "execution_count": 317,
   "metadata": {
    "ExecuteTime": {
     "end_time": "2022-03-10T05:55:17.077880Z",
     "start_time": "2022-03-10T05:55:17.075531Z"
    }
   },
   "outputs": [
    {
     "data": {
      "text/plain": [
       "['20',\n",
       " '30',\n",
       " '40',\n",
       " '50',\n",
       " '60',\n",
       " '70',\n",
       " '80',\n",
       " '90',\n",
       " '100',\n",
       " '110',\n",
       " '120',\n",
       " '130',\n",
       " '140',\n",
       " '150',\n",
       " '160',\n",
       " '170',\n",
       " '180',\n",
       " '190']"
      ]
     },
     "execution_count": 317,
     "metadata": {},
     "output_type": "execute_result"
    }
   ],
   "source": [
    "x_recognized"
   ]
  },
  {
   "cell_type": "code",
   "execution_count": 318,
   "metadata": {
    "ExecuteTime": {
     "end_time": "2022-03-10T05:56:23.974725Z",
     "start_time": "2022-03-10T05:56:23.967180Z"
    }
   },
   "outputs": [
    {
     "data": {
      "text/plain": [
       "[[53, 54, 55, 56, 57, 58, 59, 60, 61, 62, 63, 64, 65, 66, 67],\n",
       " [93, 94, 95, 96, 97, 98, 99, 100, 101, 102, 103, 104, 105, 106, 107],\n",
       " [134, 135, 136, 137, 138, 139, 140, 141, 142, 143, 144, 145, 146, 147, 148],\n",
       " [174, 175, 176, 177, 178, 179, 180, 181, 182, 183, 184, 185, 186, 187, 188],\n",
       " [215, 216, 217, 218, 219, 220, 221, 222, 223, 224, 225, 226, 227, 228, 229],\n",
       " [255, 256, 257, 258, 259, 260, 261, 262, 263, 264, 265, 266, 267, 268, 269],\n",
       " [296, 297, 298, 299, 300, 301, 302, 303, 304, 305, 306, 307, 308, 309, 310],\n",
       " [337, 338, 339, 340, 341, 342, 343, 344, 345, 346, 347, 348, 349, 350, 351],\n",
       " [377,\n",
       "  378,\n",
       "  379,\n",
       "  380,\n",
       "  381,\n",
       "  382,\n",
       "  383,\n",
       "  384,\n",
       "  385,\n",
       "  386,\n",
       "  387,\n",
       "  388,\n",
       "  389,\n",
       "  390,\n",
       "  391,\n",
       "  392,\n",
       "  393,\n",
       "  394,\n",
       "  395,\n",
       "  396,\n",
       "  397],\n",
       " [418,\n",
       "  419,\n",
       "  420,\n",
       "  421,\n",
       "  422,\n",
       "  423,\n",
       "  424,\n",
       "  425,\n",
       "  426,\n",
       "  427,\n",
       "  428,\n",
       "  429,\n",
       "  430,\n",
       "  431,\n",
       "  432,\n",
       "  433,\n",
       "  434,\n",
       "  435,\n",
       "  436,\n",
       "  437,\n",
       "  438],\n",
       " [458,\n",
       "  459,\n",
       "  460,\n",
       "  461,\n",
       "  462,\n",
       "  463,\n",
       "  464,\n",
       "  465,\n",
       "  466,\n",
       "  467,\n",
       "  468,\n",
       "  469,\n",
       "  470,\n",
       "  471,\n",
       "  472,\n",
       "  473,\n",
       "  474,\n",
       "  475,\n",
       "  476,\n",
       "  477,\n",
       "  478],\n",
       " [499,\n",
       "  500,\n",
       "  501,\n",
       "  502,\n",
       "  503,\n",
       "  504,\n",
       "  505,\n",
       "  506,\n",
       "  507,\n",
       "  508,\n",
       "  509,\n",
       "  510,\n",
       "  511,\n",
       "  512,\n",
       "  513,\n",
       "  514,\n",
       "  515,\n",
       "  516,\n",
       "  517,\n",
       "  518,\n",
       "  519],\n",
       " [540,\n",
       "  541,\n",
       "  542,\n",
       "  543,\n",
       "  544,\n",
       "  545,\n",
       "  546,\n",
       "  547,\n",
       "  548,\n",
       "  549,\n",
       "  550,\n",
       "  551,\n",
       "  552,\n",
       "  553,\n",
       "  554,\n",
       "  555,\n",
       "  556,\n",
       "  557,\n",
       "  558,\n",
       "  559,\n",
       "  560],\n",
       " [580,\n",
       "  581,\n",
       "  582,\n",
       "  583,\n",
       "  584,\n",
       "  585,\n",
       "  586,\n",
       "  587,\n",
       "  588,\n",
       "  589,\n",
       "  590,\n",
       "  591,\n",
       "  592,\n",
       "  593,\n",
       "  594,\n",
       "  595,\n",
       "  596,\n",
       "  597,\n",
       "  598,\n",
       "  599,\n",
       "  600],\n",
       " [621,\n",
       "  622,\n",
       "  623,\n",
       "  624,\n",
       "  625,\n",
       "  626,\n",
       "  627,\n",
       "  628,\n",
       "  629,\n",
       "  630,\n",
       "  631,\n",
       "  632,\n",
       "  633,\n",
       "  634,\n",
       "  635,\n",
       "  636,\n",
       "  637,\n",
       "  638,\n",
       "  639,\n",
       "  640,\n",
       "  641],\n",
       " [661,\n",
       "  662,\n",
       "  663,\n",
       "  664,\n",
       "  665,\n",
       "  666,\n",
       "  667,\n",
       "  668,\n",
       "  669,\n",
       "  670,\n",
       "  671,\n",
       "  672,\n",
       "  673,\n",
       "  674,\n",
       "  675,\n",
       "  676,\n",
       "  677,\n",
       "  678,\n",
       "  679,\n",
       "  680,\n",
       "  681],\n",
       " [702,\n",
       "  703,\n",
       "  704,\n",
       "  705,\n",
       "  706,\n",
       "  707,\n",
       "  708,\n",
       "  709,\n",
       "  710,\n",
       "  711,\n",
       "  712,\n",
       "  713,\n",
       "  714,\n",
       "  715,\n",
       "  716,\n",
       "  717,\n",
       "  718,\n",
       "  719,\n",
       "  720,\n",
       "  721,\n",
       "  722],\n",
       " [743,\n",
       "  744,\n",
       "  745,\n",
       "  746,\n",
       "  747,\n",
       "  748,\n",
       "  749,\n",
       "  750,\n",
       "  751,\n",
       "  752,\n",
       "  753,\n",
       "  754,\n",
       "  755,\n",
       "  756,\n",
       "  757,\n",
       "  758,\n",
       "  759,\n",
       "  760,\n",
       "  761,\n",
       "  762,\n",
       "  763]]"
      ]
     },
     "execution_count": 318,
     "metadata": {},
     "output_type": "execute_result"
    }
   ],
   "source": [
    "x_label_splits"
   ]
  },
  {
   "cell_type": "code",
   "execution_count": 319,
   "metadata": {
    "ExecuteTime": {
     "end_time": "2022-03-10T05:57:03.157901Z",
     "start_time": "2022-03-10T05:57:03.155433Z"
    }
   },
   "outputs": [
    {
     "data": {
      "text/plain": [
       "[561, 562, 563, 564, 565, 566, 567, 568]"
      ]
     },
     "execution_count": 319,
     "metadata": {},
     "output_type": "execute_result"
    }
   ],
   "source": [
    "x_splits[-2]"
   ]
  },
  {
   "cell_type": "code",
   "execution_count": 324,
   "metadata": {
    "ExecuteTime": {
     "end_time": "2022-03-10T06:25:18.203775Z",
     "start_time": "2022-03-10T06:25:18.200479Z"
    }
   },
   "outputs": [],
   "source": [
    "x_label_formated = []\n",
    "for i in range(len(x_recognized)):\n",
    "    x_label_formated.append([[x_label_splits[i][0], x_splits[-2][0]],\n",
    "                            [x_label_splits[i][-1], x_splits[-2][0]],\n",
    "                            [x_label_splits[i][0], x_splits[-2][-1]],\n",
    "                            [x_label_splits[i][-1], x_splits[-2][-1]],\n",
    "                            eval(x_recognized[i])])"
   ]
  },
  {
   "cell_type": "code",
   "execution_count": 325,
   "metadata": {
    "ExecuteTime": {
     "end_time": "2022-03-10T06:25:31.341621Z",
     "start_time": "2022-03-10T06:25:31.335166Z"
    }
   },
   "outputs": [
    {
     "data": {
      "text/plain": [
       "[[[53, 561], [67, 561], [53, 568], [67, 568], 20],\n",
       " [[93, 561], [107, 561], [93, 568], [107, 568], 30],\n",
       " [[134, 561], [148, 561], [134, 568], [148, 568], 40],\n",
       " [[174, 561], [188, 561], [174, 568], [188, 568], 50],\n",
       " [[215, 561], [229, 561], [215, 568], [229, 568], 60],\n",
       " [[255, 561], [269, 561], [255, 568], [269, 568], 70],\n",
       " [[296, 561], [310, 561], [296, 568], [310, 568], 80],\n",
       " [[337, 561], [351, 561], [337, 568], [351, 568], 90],\n",
       " [[377, 561], [397, 561], [377, 568], [397, 568], 100],\n",
       " [[418, 561], [438, 561], [418, 568], [438, 568], 110],\n",
       " [[458, 561], [478, 561], [458, 568], [478, 568], 120],\n",
       " [[499, 561], [519, 561], [499, 568], [519, 568], 130],\n",
       " [[540, 561], [560, 561], [540, 568], [560, 568], 140],\n",
       " [[580, 561], [600, 561], [580, 568], [600, 568], 150],\n",
       " [[621, 561], [641, 561], [621, 568], [641, 568], 160],\n",
       " [[661, 561], [681, 561], [661, 568], [681, 568], 170],\n",
       " [[702, 561], [722, 561], [702, 568], [722, 568], 180],\n",
       " [[743, 561], [763, 561], [743, 568], [763, 568], 190]]"
      ]
     },
     "execution_count": 325,
     "metadata": {},
     "output_type": "execute_result"
    }
   ],
   "source": [
    "x_label_formated"
   ]
  },
  {
   "cell_type": "markdown",
   "metadata": {},
   "source": [
    "#### recognize yLabel"
   ]
  },
  {
   "cell_type": "code",
   "execution_count": 357,
   "metadata": {
    "ExecuteTime": {
     "end_time": "2022-03-10T07:49:47.988547Z",
     "start_time": "2022-03-10T07:49:47.979201Z"
    }
   },
   "outputs": [],
   "source": [
    "y_Numbers_resized = []\n",
    "for i in range(len(y_Numbers)):\n",
    "    y_numbers_resized = []\n",
    "    for j in range(len(y_Numbers[i])):\n",
    "        y_numbers_resized.append(resizefig(tr.rescale(yLabels[i][:, y_Numbers[i][j]],2), 10, 10, 50))\n",
    "    y_Numbers_resized.append(y_numbers_resized)"
   ]
  },
  {
   "cell_type": "code",
   "execution_count": 358,
   "metadata": {
    "ExecuteTime": {
     "end_time": "2022-03-10T07:50:08.400688Z",
     "start_time": "2022-03-10T07:50:08.305291Z"
    }
   },
   "outputs": [
    {
     "data": {
      "text/plain": [
       "<matplotlib.image.AxesImage at 0x7f39b09cddd8>"
      ]
     },
     "execution_count": 358,
     "metadata": {},
     "output_type": "execute_result"
    },
    {
     "data": {
      "image/png": "[encoded data removed]",
      "text/plain": [
       "<Figure size 432x288 with 1 Axes>"
      ]
     },
     "metadata": {
      "needs_background": "light"
     },
     "output_type": "display_data"
    }
   ],
   "source": [
    "io.imshow(y_Numbers_resized[0][0])"
   ]
  },
  {
   "cell_type": "code",
   "execution_count": 359,
   "metadata": {
    "ExecuteTime": {
     "end_time": "2022-03-10T07:51:16.247293Z",
     "start_time": "2022-03-10T07:51:16.207048Z"
    }
   },
   "outputs": [],
   "source": [
    "y_recognized = []\n",
    "for i in y_Numbers_resized:\n",
    "    y_recognized_number = []\n",
    "    for j in i:\n",
    "        input_tensor = torch.tensor(np.expand_dims(j ,0), dtype=torch.float32).to(device)\n",
    "        output = recog_label_model(input_tensor)\n",
    "        predict = output.detach().cpu().topk(1)[1].view(-1).numpy()\n",
    "        y_recognized_number.append(str(predict[0]))\n",
    "    digit = \"\".join(y_recognized_number)\n",
    "    y_recognized.append(digit)"
   ]
  },
  {
   "cell_type": "code",
   "execution_count": 360,
   "metadata": {
    "ExecuteTime": {
     "end_time": "2022-03-10T07:51:34.981729Z",
     "start_time": "2022-03-10T07:51:34.978959Z"
    }
   },
   "outputs": [
    {
     "data": {
      "text/plain": [
       "['0', '25', '50', '75', '100']"
      ]
     },
     "execution_count": 360,
     "metadata": {},
     "output_type": "execute_result"
    }
   ],
   "source": [
    "y_recognized"
   ]
  },
  {
   "cell_type": "code",
   "execution_count": 362,
   "metadata": {
    "ExecuteTime": {
     "end_time": "2022-03-10T07:52:18.212156Z",
     "start_time": "2022-03-10T07:52:18.208086Z"
    }
   },
   "outputs": [
    {
     "data": {
      "text/plain": [
       "[[42, 43, 44, 45, 46, 47, 48, 49, 50],\n",
       " [167, 168, 169, 170, 171, 172, 173, 174, 175, 176, 177, 178, 179, 180, 181],\n",
       " [292, 293, 294, 295, 296, 297, 298, 299, 300, 301, 302, 303, 304, 305, 306],\n",
       " [417, 418, 419, 420, 421, 422, 423, 424, 425, 426, 427, 428, 429, 430, 431],\n",
       " [542,\n",
       "  543,\n",
       "  544,\n",
       "  545,\n",
       "  546,\n",
       "  547,\n",
       "  548,\n",
       "  549,\n",
       "  550,\n",
       "  551,\n",
       "  552,\n",
       "  553,\n",
       "  554,\n",
       "  555,\n",
       "  556,\n",
       "  557,\n",
       "  558,\n",
       "  559,\n",
       "  560,\n",
       "  561,\n",
       "  562]]"
      ]
     },
     "execution_count": 362,
     "metadata": {},
     "output_type": "execute_result"
    }
   ],
   "source": [
    "y_label_splits"
   ]
  },
  {
   "cell_type": "code",
   "execution_count": 363,
   "metadata": {
    "ExecuteTime": {
     "end_time": "2022-03-10T07:52:32.230466Z",
     "start_time": "2022-03-10T07:52:32.227891Z"
    }
   },
   "outputs": [
    {
     "data": {
      "text/plain": [
       "[31, 32, 33, 34, 35, 36, 37, 38]"
      ]
     },
     "execution_count": 363,
     "metadata": {},
     "output_type": "execute_result"
    }
   ],
   "source": [
    "y_splits[1]"
   ]
  },
  {
   "cell_type": "code",
   "execution_count": 378,
   "metadata": {
    "ExecuteTime": {
     "end_time": "2022-03-10T08:22:47.243981Z",
     "start_time": "2022-03-10T08:22:47.047945Z"
    }
   },
   "outputs": [
    {
     "data": {
      "text/plain": [
       "<matplotlib.image.AxesImage at 0x7f3a7c314550>"
      ]
     },
     "execution_count": 378,
     "metadata": {},
     "output_type": "execute_result"
    },
    {
     "data": {
      "image/png": "[encoded data removed]",
      "text/plain": [
       "<Figure size 432x288 with 1 Axes>"
      ]
     },
     "metadata": {
      "needs_background": "light"
     },
     "output_type": "display_data"
    }
   ],
   "source": [
    "i, j = 600-542, 600-562\n",
    "io.imshow(ylabel[j:i, :])"
   ]
  },
  {
   "cell_type": "code",
   "execution_count": 425,
   "metadata": {
    "ExecuteTime": {
     "end_time": "2022-03-11T07:08:39.793929Z",
     "start_time": "2022-03-11T07:08:39.790979Z"
    }
   },
   "outputs": [],
   "source": [
    "y_label_formated = []\n",
    "for i in range(len(y_recognized)-1, -1, -1): \n",
    "    c, d = binary.shape\n",
    "    b, a = c-y_label_splits[i][0], c-y_label_splits[i][-1]\n",
    "    y_label_formated.append([[a, y_splits[1][0]],\n",
    "                            [b, y_splits[1][0]],\n",
    "                            [a, y_splits[1][-1]],\n",
    "                            [b, y_splits[1][-1]],\n",
    "                            eval(y_recognized[i])])"
   ]
  },
  {
   "cell_type": "code",
   "execution_count": 426,
   "metadata": {
    "ExecuteTime": {
     "end_time": "2022-03-11T07:08:41.850114Z",
     "start_time": "2022-03-11T07:08:41.846883Z"
    }
   },
   "outputs": [
    {
     "data": {
      "text/plain": [
       "[[[38, 31], [58, 31], [38, 38], [58, 38], 100],\n",
       " [[169, 31], [183, 31], [169, 38], [183, 38], 75],\n",
       " [[294, 31], [308, 31], [294, 38], [308, 38], 50],\n",
       " [[419, 31], [433, 31], [419, 38], [433, 38], 25],\n",
       " [[550, 31], [558, 31], [550, 38], [558, 38], 0]]"
      ]
     },
     "execution_count": 426,
     "metadata": {},
     "output_type": "execute_result"
    }
   ],
   "source": [
    "y_label_formated"
   ]
  },
  {
   "cell_type": "markdown",
   "metadata": {},
   "source": [
    "### Determine absolute coordinates"
   ]
  },
  {
   "cell_type": "markdown",
   "metadata": {},
   "source": [
    "#### Get the y-coordinate relationship"
   ]
  },
  {
   "cell_type": "code",
   "execution_count": 409,
   "metadata": {
    "ExecuteTime": {
     "end_time": "2022-03-11T07:04:12.287753Z",
     "start_time": "2022-03-11T07:04:12.285704Z"
    }
   },
   "outputs": [],
   "source": [
    "horizon_distribution = np.sum(~content, axis=0)"
   ]
  },
  {
   "cell_type": "code",
   "execution_count": 410,
   "metadata": {
    "ExecuteTime": {
     "end_time": "2022-03-11T07:04:16.930094Z",
     "start_time": "2022-03-11T07:04:16.926362Z"
    },
    "scrolled": true
   },
   "outputs": [
    {
     "data": {
      "text/plain": [
       "array([  5,   5,   5,  21,  21,  21, 501,   1,   1,   1,   1,   1,   1,\n",
       "         1,   1,   1,   6,   1,   1,   1,   1,   1,   1,   1,   4,   1,\n",
       "         1,   1,   1,   1,   1,   1,   4,   1,   1,   1,   1,   1,   1,\n",
       "         1,   8,   1,   1,   1,   4,   1,   1,   1,   4,   1,   1,   1,\n",
       "         1,   1,   1,   1,   6,   1,   1,   1,   7,   1,   1,   1,   4,\n",
       "         1,   1,   1,   1,   1,   1,   1,   4,   1,   1,   1,   4,   1,\n",
       "         1,   1,   6,   1,   1,   1,   1,  13,   1,   1,   1,  17,   1,\n",
       "         1,   1,   5,   1,   1,   1,   6,   1,   1,   1,   1,   1,   1,\n",
       "         1,   4,   1,   1,   1,   1,   1,   1,   1,   4,   1,   1,   1,\n",
       "         1,   1,   1,   1,   4,   1,   1,   1,   1,   1,   1,   1,   4,\n",
       "         1,   1,   1,   1,   1,   1,   1,  88,   1,   1,   1,  13,   1,\n",
       "         1,   1,   6,   1,   1,   1,   2,   1,   1,   1,   1,   4,   1,\n",
       "         1,   1,   3,   1,   1,   1,   9,   1,   1,   1,  12,   1,   1,\n",
       "         1,   4,   1,   1,   1,   1,   1,   1,   1,  12,   1,   1,   1,\n",
       "        14,   1,   1,   1,  21,   1,   1,   1,  16,   1,   1,   1,   6,\n",
       "         1,   1,   1,   2,   1,   1,   1,   4,   1,   1,   1,   2,   1,\n",
       "         1,   1,  12,   1,   1,   1,  85,   1,   1,   1,   9,   1,   1,\n",
       "         1,   1,   3,   1,   1,   1,  17,   1,   1,   1,  31,   1,   1,\n",
       "         1,  86,   1,   1,   1, 159,   1,   1,   1,  30,   1,   1,   1,\n",
       "         4,   1,   1,   1,   4,   1,   1,   1,   5,   1,   1,   1,  22,\n",
       "         1,   1,   1,   8,   1,   1,   1,   4,   1,   1,   1,   1,   1,\n",
       "         1,   1,   4,   1,   1,   1,  17,   1,   1,   1,   4,   1,   1,\n",
       "         1,   9,   1,   1,   1,   1,   6,   1,   1,   1,   1,   1,   1,\n",
       "         1,   9,   1,   1,   1,   5,   1,   1,   1,   8,   1,   1,   1,\n",
       "        11,   1,   1,   1,  15,   1,   1,   1,  57,   1,   1,   1,   9,\n",
       "         1,   1,   1,   3,   1,   1,   1,   6,   1,   1,   1,  30,   1,\n",
       "         1,   1,  12,   1,   1,   1,   5,   1,   1,   1,   4,   1,   1,\n",
       "         1,   4,   1,   1,   1,   8,   1,   1,   1,   1,   4,   1,   1,\n",
       "         1,   6,   1,   1,   1,   7,   1,   1,   1,   7,   1,   1,   1,\n",
       "         8,   1,   1,   1,   9,   1,   1,   1,  34,   1,   1,   1,   8,\n",
       "         1,   1,   1,  12,   1,   1,   1,   7,   1,   1,   1,   3,   1,\n",
       "         1,   1,   4,   1,   1,   1,   3,   1,   1,   1,   6,   1,   1,\n",
       "         1,  11,   1,   1,   1,   6,   1,   1,   1,   1,   1,   1,   1,\n",
       "         1,   4,   1,   1,   1,   6,   1,   1,   1,   6,   1,   1,   1,\n",
       "        63,   1,   1,   1,  27,   1,   1,   1,   3,   1,   1,   1,   4,\n",
       "         1,   1,   1,   5,   1,   1,   1, 136,   1,   1,   1,  12,   1,\n",
       "         1,   1,  48,   1,   1,   1,   6,   1,   1,   1,   4,   1,   1,\n",
       "         1,   4,   1,   1,   1,   4,   1,   1,   1,   1,   1,   1,   1,\n",
       "         4,   1,   1,   1,   1,   1,   1,   1,   1,   6,   1,   1,   1,\n",
       "         3,   1,   1,   1,   4,   1,   1,   1,  12,   1,   1,   1,  16,\n",
       "         1,   1,   1, 299,   1,   1,   1,  27,   1,   1,   1,   1,   1,\n",
       "         1,   1,   4,   1,   1,   1,   1,   1,   1,   1,   6,   1,   1,\n",
       "         1,   1,   1,   1,   1,   4,   1,   1,   1,   1,   1,   1,   1,\n",
       "         4,   1,   1,   1,   1,   1,   1,   1,   1,   4,   1,   1,   1,\n",
       "         1,   1,   1,   1,   4,   1,   1,   1,   3,   1,   1,   1,   9,\n",
       "         1,   1,   1, 227,   1,   1,   1,  23,   1,   1,   1,  74,   1,\n",
       "         1,   1,  10,   1,   1,   1,   1,   1,   1,   1,   4,   1,   1,\n",
       "         1,   1,   1,   1,   1,   4,   1,   1,   1,   1,   1,   1,   1,\n",
       "         6,   1,   1,   1,   1,   1,   1,   1,   4,   1,   1,   1,   1,\n",
       "         1,   1,   1,   1,   4,   1,   1,   1,   1,   1,   1,   1,   4,\n",
       "         1,   1,   1,   1,   1,   1,   1,   4,   1,   1,   1,  25,   1,\n",
       "         1,   1, 506,   1,   1,   1,  46,   1,   1,   1, 165,   1,   1,\n",
       "         1,  14,   1,   1,   1,   4,   1,   1,   1,   1,   1,   1,   1,\n",
       "         4,   1,   1,   1,   1,   1,   1,   1,   4,   1,   1,   1,   1,\n",
       "         1,   1,   1,   1,   6,   0,   0,   0,   0,   0,   0,   0,   0,\n",
       "         0,   0,   0,   0,   0,   0,   0,   0,   0,   0,   0,   0,   0,\n",
       "         0,   0,   0,   0,   0,   0,   0,   0,   0,   0,   0,   0,   0,\n",
       "         0,   0,   0,   0,   0,   0,   0,   0,   0,   0,   0,   0,   0,\n",
       "         0,   0])"
      ]
     },
     "execution_count": 410,
     "metadata": {},
     "output_type": "execute_result"
    }
   ],
   "source": [
    "horizon_distribution"
   ]
  },
  {
   "cell_type": "code",
   "execution_count": 411,
   "metadata": {
    "ExecuteTime": {
     "end_time": "2022-03-11T07:04:24.937391Z",
     "start_time": "2022-03-11T07:04:24.935144Z"
    }
   },
   "outputs": [],
   "source": [
    "y_label_bulge = []\n",
    "temp = horizon_distribution[0]\n",
    "for i in range(len(horizon_distribution)):\n",
    "    if horizon_distribution[i] == temp:\n",
    "        y_label_bulge.append(i)\n",
    "    else:\n",
    "        break"
   ]
  },
  {
   "cell_type": "code",
   "execution_count": 412,
   "metadata": {
    "ExecuteTime": {
     "end_time": "2022-03-11T07:04:27.717223Z",
     "start_time": "2022-03-11T07:04:27.714820Z"
    }
   },
   "outputs": [
    {
     "data": {
      "text/plain": [
       "[0, 1, 2]"
      ]
     },
     "execution_count": 412,
     "metadata": {},
     "output_type": "execute_result"
    }
   ],
   "source": [
    "y_label_bulge"
   ]
  },
  {
   "cell_type": "code",
   "execution_count": 413,
   "metadata": {
    "ExecuteTime": {
     "end_time": "2022-03-11T07:04:32.254537Z",
     "start_time": "2022-03-11T07:04:32.119206Z"
    }
   },
   "outputs": [
    {
     "data": {
      "text/plain": [
       "<matplotlib.image.AxesImage at 0x7f39addab7b8>"
      ]
     },
     "execution_count": 413,
     "metadata": {},
     "output_type": "execute_result"
    },
    {
     "data": {
      "image/png": "[encoded data removed]",
      "text/plain": [
       "<Figure size 432x288 with 2 Axes>"
      ]
     },
     "metadata": {
      "needs_background": "light"
     },
     "output_type": "display_data"
    }
   ],
   "source": [
    "io.imshow(~content[:, y_label_bulge])"
   ]
  },
  {
   "cell_type": "code",
   "execution_count": 414,
   "metadata": {
    "ExecuteTime": {
     "end_time": "2022-03-11T07:04:36.268222Z",
     "start_time": "2022-03-11T07:04:36.266309Z"
    }
   },
   "outputs": [],
   "source": [
    "vertical_distribution = np.sum(~content[:, y_label_bulge], axis=1)"
   ]
  },
  {
   "cell_type": "code",
   "execution_count": 415,
   "metadata": {
    "ExecuteTime": {
     "end_time": "2022-03-11T07:04:38.556184Z",
     "start_time": "2022-03-11T07:04:38.554085Z"
    }
   },
   "outputs": [],
   "source": [
    "y_label_bulge_y = []\n",
    "for i in range(len(vertical_distribution)):\n",
    "    if vertical_distribution[i]:\n",
    "        y_label_bulge_y.append(i)"
   ]
  },
  {
   "cell_type": "code",
   "execution_count": 416,
   "metadata": {
    "ExecuteTime": {
     "end_time": "2022-03-11T07:04:41.204607Z",
     "start_time": "2022-03-11T07:04:41.202203Z"
    }
   },
   "outputs": [
    {
     "data": {
      "text/plain": [
       "[50, 175, 300, 425, 550]"
      ]
     },
     "execution_count": 416,
     "metadata": {},
     "output_type": "execute_result"
    }
   ],
   "source": [
    "y_label_bulge_y"
   ]
  },
  {
   "cell_type": "code",
   "execution_count": 428,
   "metadata": {
    "ExecuteTime": {
     "end_time": "2022-03-11T07:18:30.643776Z",
     "start_time": "2022-03-11T07:18:30.640968Z"
    }
   },
   "outputs": [
    {
     "data": {
      "text/plain": [
       "{50: 100, 175: 75, 300: 50, 425: 25, 550: 0}"
      ]
     },
     "execution_count": 428,
     "metadata": {},
     "output_type": "execute_result"
    }
   ],
   "source": [
    "y_coordinates = {}\n",
    "for i in range(len(y_label_bulge_y)):\n",
    "    y_coordinates[y_label_bulge_y[i]] = y_label_formated[i][-1]\n",
    "\n",
    "y_coordinates"
   ]
  },
  {
   "cell_type": "code",
   "execution_count": 498,
   "metadata": {
    "ExecuteTime": {
     "end_time": "2022-03-12T01:46:50.481005Z",
     "start_time": "2022-03-12T01:46:50.394247Z"
    }
   },
   "outputs": [
    {
     "data": {
      "text/plain": [
       "<matplotlib.image.AxesImage at 0x7f39ad093eb8>"
      ]
     },
     "execution_count": 498,
     "metadata": {},
     "output_type": "execute_result"
    },
    {
     "data": {
      "image/png": "[encoded data removed]",
      "text/plain": [
       "<Figure size 432x288 with 1 Axes>"
      ]
     },
     "metadata": {
      "needs_background": "light"
     },
     "output_type": "display_data"
    }
   ],
   "source": [
    "io.imshow(~content[550:560, y_label_bulge])"
   ]
  },
  {
   "cell_type": "markdown",
   "metadata": {},
   "source": [
    "#### Get the x-coordinate relationship"
   ]
  },
  {
   "cell_type": "code",
   "execution_count": 436,
   "metadata": {
    "ExecuteTime": {
     "end_time": "2022-03-11T07:30:15.527958Z",
     "start_time": "2022-03-11T07:30:15.525940Z"
    }
   },
   "outputs": [],
   "source": [
    "vertical_distribution = np.sum(~content, axis=1)"
   ]
  },
  {
   "cell_type": "code",
   "execution_count": 437,
   "metadata": {
    "ExecuteTime": {
     "end_time": "2022-03-11T07:30:17.740804Z",
     "start_time": "2022-03-11T07:30:17.737472Z"
    }
   },
   "outputs": [
    {
     "data": {
      "text/plain": [
       "array([  0,   0,   0,   0,   0,   0,   0,   0,   0,   0,   0,   0,   0,\n",
       "         0,   0,   0,   0,   0,   0,   0,   0,   0,   0,   0,   0,   0,\n",
       "         0,   0,   0,   0,   0,   0,   0,   0,   0,   0,   0,   0,   0,\n",
       "         0,   0,   0,   0,   0,   0,   0,   0,   0,   0,   0,   8,   2,\n",
       "         2,   2,   2,   2,   2,   2,   2,   2,   2,   2,   2,   2,   2,\n",
       "         2,   2,   2,   2,   2,   2,   2,   2,   2,   2,   5,   2,   2,\n",
       "         2,   2,   2,   2,   2,   2,   2,   2,   2,   2,   2,   2,   2,\n",
       "         2,   2,   2,   2,   2,   2,   2,   2,   2,   5,   2,   2,   2,\n",
       "         2,   2,   2,   2,   2,   2,   2,   2,   2,   2,   2,   2,   2,\n",
       "         2,   2,   2,   2,   2,   2,   2,   2,   5,   2,   2,   2,   2,\n",
       "         2,   2,   2,   2,   2,   2,   2,   2,   2,   2,   2,   2,   2,\n",
       "         2,   2,   2,   2,   2,   2,   2,   5,   2,   2,   2,   2,   2,\n",
       "         2,   2,   2,   2,   2,   2,   2,   2,   2,   2,   2,   2,   2,\n",
       "         2,   2,   2,   2,   2,   2,   8,   2,   2,   2,   2,   2,   2,\n",
       "         2,   2,   2,   2,   2,   2,   2,   2,   2,   2,   2,   2,   2,\n",
       "         2,   2,   2,   2,   2,   5,   2,   2,   2,   2,   2,   2,   2,\n",
       "         2,   2,   2,   2,   2,   2,   2,   2,   2,   2,   2,   2,   2,\n",
       "         2,   2,   2,   2,   5,   2,   2,   2,   2,   2,   2,   2,   2,\n",
       "         2,   2,   2,   2,   2,   2,   2,   2,   2,   2,   2,   2,   2,\n",
       "         2,   2,   2,   5,   2,   3,   3,   3,   3,   3,   3,   3,   3,\n",
       "         3,   3,   3,   3,   3,   3,   3,   3,   3,   3,   3,   3,   3,\n",
       "         3,   3,   6,   3,   3,   3,   3,   3,   3,   3,   3,   3,   3,\n",
       "         3,   3,   3,   3,   3,   3,   3,   3,   3,   3,   3,   3,   3,\n",
       "         3,   9,   3,   3,   3,   3,   3,   3,   3,   3,   3,   3,   3,\n",
       "         3,   3,   3,   3,   3,   3,   3,   3,   3,   3,   3,   3,   4,\n",
       "         7,   4,   4,   4,   4,   4,   4,   4,   4,   4,   4,   4,   4,\n",
       "         4,   4,   4,   4,   4,   4,   4,   4,   4,   4,   4,   4,   7,\n",
       "         4,   4,   4,   4,   4,   4,   4,   4,   4,   4,   4,   4,   4,\n",
       "         4,   4,   4,   4,   4,   4,   4,   4,   4,   4,   4,   7,   4,\n",
       "         4,   4,   4,   4,   4,   4,   4,   4,   4,   4,   4,   4,   5,\n",
       "         5,   5,   6,   6,   6,   6,   6,   6,   6,   6,   9,   6,   6,\n",
       "         6,   6,   6,   6,   6,   6,   6,   6,   6,   6,   6,   6,   6,\n",
       "         6,   6,   6,   6,   7,   7,   7,   7,   7,  13,   7,   7,   7,\n",
       "         7,   7,   7,   7,   7,   7,   7,   7,   7,   7,   7,   7,   7,\n",
       "         7,   7,   7,   7,   7,   7,   7,   7,  10,   7,   7,   7,   7,\n",
       "         7,   7,   7,   7,   7,   7,   7,   7,   7,   7,   7,   8,   8,\n",
       "        10,  10,  10,  10,  10,  10,  10,  13,  10,  11,  11,  11,  11,\n",
       "        11,  11,  11,  11,  11,  11,  11,  12,  12,  12,  12,  12,  12,\n",
       "        13,  13,  13,  13,  13,  13,  16,  13,  13,  13,  13,  14,  15,\n",
       "        15,  15,  15,  15,  15,  15,  15,  15,  15,  15,  16,  16,  16,\n",
       "        17,  18,  18,  18,  19,  22,  20,  22,  22,  22,  22,  23,  23,\n",
       "        24,  26,  27,  27,  31,  34,  39,  41,  41,  43,  45,  50,  54,\n",
       "        63,  75,  91,  94, 707,  86,  86,  86,  18,  18])"
      ]
     },
     "execution_count": 437,
     "metadata": {},
     "output_type": "execute_result"
    }
   ],
   "source": [
    "vertical_distribution"
   ]
  },
  {
   "cell_type": "code",
   "execution_count": 438,
   "metadata": {
    "ExecuteTime": {
     "end_time": "2022-03-11T07:30:22.403749Z",
     "start_time": "2022-03-11T07:30:22.401572Z"
    }
   },
   "outputs": [],
   "source": [
    "x_label_bulge = []\n",
    "temp = vertical_distribution[-1]\n",
    "for i in range(len(vertical_distribution)-1, -1, -1):\n",
    "    if vertical_distribution[i] == temp:\n",
    "        x_label_bulge.append(i)\n",
    "    else:\n",
    "        break"
   ]
  },
  {
   "cell_type": "code",
   "execution_count": 439,
   "metadata": {
    "ExecuteTime": {
     "end_time": "2022-03-11T07:30:25.206645Z",
     "start_time": "2022-03-11T07:30:25.204122Z"
    }
   },
   "outputs": [
    {
     "data": {
      "text/plain": [
       "[555, 554]"
      ]
     },
     "execution_count": 439,
     "metadata": {},
     "output_type": "execute_result"
    }
   ],
   "source": [
    "x_label_bulge"
   ]
  },
  {
   "cell_type": "code",
   "execution_count": 440,
   "metadata": {
    "ExecuteTime": {
     "end_time": "2022-03-11T07:30:46.033454Z",
     "start_time": "2022-03-11T07:30:46.030608Z"
    }
   },
   "outputs": [
    {
     "name": "stderr",
     "output_type": "stream",
     "text": [
      "/home/user/miniconda/lib/python3.7/site-packages/ipykernel_launcher.py:1: UserWarning: x_axis.png is a boolean image: setting True to 255 and False to 0. To silence this warning, please convert the image using img_as_ubyte.\n",
      "  \"\"\"Entry point for launching an IPython kernel.\n"
     ]
    }
   ],
   "source": [
    "io.imsave('x_axis.png',~content[x_label_bulge, :])"
   ]
  },
  {
   "cell_type": "code",
   "execution_count": 445,
   "metadata": {
    "ExecuteTime": {
     "end_time": "2022-03-11T07:48:15.222280Z",
     "start_time": "2022-03-11T07:48:15.220383Z"
    }
   },
   "outputs": [],
   "source": [
    "horizon_distribution = np.sum(~content[x_label_bulge, :], axis=0)"
   ]
  },
  {
   "cell_type": "code",
   "execution_count": 446,
   "metadata": {
    "ExecuteTime": {
     "end_time": "2022-03-11T07:48:19.038804Z",
     "start_time": "2022-03-11T07:48:19.035261Z"
    }
   },
   "outputs": [
    {
     "data": {
      "text/plain": [
       "array([0, 0, 0, 0, 0, 0, 0, 0, 0, 0, 0, 0, 0, 0, 0, 0, 2, 0, 0, 0, 0, 0,\n",
       "       0, 0, 0, 0, 0, 0, 0, 0, 0, 0, 0, 0, 0, 0, 0, 0, 0, 0, 0, 0, 0, 0,\n",
       "       0, 0, 0, 0, 0, 0, 0, 0, 0, 0, 0, 0, 2, 0, 0, 0, 0, 0, 0, 0, 0, 0,\n",
       "       0, 0, 0, 0, 0, 0, 0, 0, 0, 0, 0, 0, 0, 0, 0, 0, 0, 0, 0, 0, 0, 0,\n",
       "       0, 0, 0, 0, 0, 0, 0, 0, 0, 2, 0, 0, 0, 0, 0, 0, 0, 0, 0, 0, 0, 0,\n",
       "       0, 0, 0, 0, 0, 0, 0, 0, 0, 0, 0, 0, 0, 0, 0, 0, 0, 0, 0, 0, 0, 0,\n",
       "       0, 0, 0, 0, 0, 2, 0, 0, 0, 0, 0, 0, 0, 0, 0, 0, 0, 0, 0, 0, 0, 0,\n",
       "       0, 0, 0, 0, 0, 0, 0, 0, 0, 0, 0, 0, 0, 0, 0, 0, 0, 0, 0, 0, 0, 0,\n",
       "       0, 0, 2, 0, 0, 0, 0, 0, 0, 0, 0, 0, 0, 0, 0, 0, 0, 0, 0, 0, 0, 0,\n",
       "       0, 0, 0, 0, 0, 0, 0, 0, 0, 0, 0, 0, 0, 0, 0, 0, 0, 0, 0, 0, 2, 0,\n",
       "       0, 0, 0, 0, 0, 0, 0, 0, 0, 0, 0, 0, 0, 0, 0, 0, 0, 0, 0, 0, 0, 0,\n",
       "       0, 0, 0, 0, 0, 0, 0, 0, 0, 0, 0, 0, 0, 0, 0, 0, 0, 2, 0, 0, 0, 0,\n",
       "       0, 0, 0, 0, 0, 0, 0, 0, 0, 0, 0, 0, 0, 0, 0, 0, 0, 0, 0, 0, 0, 0,\n",
       "       0, 0, 0, 0, 0, 0, 0, 0, 0, 0, 0, 0, 0, 0, 2, 0, 0, 0, 0, 0, 0, 0,\n",
       "       0, 0, 0, 0, 0, 0, 0, 0, 0, 0, 0, 0, 0, 0, 0, 0, 0, 0, 0, 0, 0, 0,\n",
       "       0, 0, 0, 0, 0, 0, 0, 0, 0, 0, 2, 0, 0, 0, 0, 0, 0, 0, 0, 0, 0, 0,\n",
       "       0, 0, 0, 0, 0, 0, 0, 0, 0, 0, 0, 0, 0, 0, 0, 0, 0, 0, 0, 0, 0, 0,\n",
       "       0, 0, 0, 0, 0, 0, 0, 2, 0, 0, 0, 0, 0, 0, 0, 0, 0, 0, 0, 0, 0, 0,\n",
       "       0, 0, 0, 0, 0, 0, 0, 0, 0, 0, 0, 0, 0, 0, 0, 0, 0, 0, 0, 0, 0, 0,\n",
       "       0, 0, 0, 2, 0, 0, 0, 0, 0, 0, 0, 0, 0, 0, 0, 0, 0, 0, 0, 0, 0, 0,\n",
       "       0, 0, 0, 0, 0, 0, 0, 0, 0, 0, 0, 0, 0, 0, 0, 0, 0, 0, 0, 0, 0, 0,\n",
       "       2, 0, 0, 0, 0, 0, 0, 0, 0, 0, 0, 0, 0, 0, 0, 0, 0, 0, 0, 0, 0, 0,\n",
       "       0, 0, 0, 0, 0, 0, 0, 0, 0, 0, 0, 0, 0, 0, 0, 0, 0, 0, 0, 2, 0, 0,\n",
       "       0, 0, 0, 0, 0, 0, 0, 0, 0, 0, 0, 0, 0, 0, 0, 0, 0, 0, 0, 0, 0, 0,\n",
       "       0, 0, 0, 0, 0, 0, 0, 0, 0, 0, 0, 0, 0, 0, 0, 2, 0, 0, 0, 0, 0, 0,\n",
       "       0, 0, 0, 0, 0, 0, 0, 0, 0, 0, 0, 0, 0, 0, 0, 0, 0, 0, 0, 0, 0, 0,\n",
       "       0, 0, 0, 0, 0, 0, 0, 0, 0, 0, 0, 0, 2, 0, 0, 0, 0, 0, 0, 0, 0, 0,\n",
       "       0, 0, 0, 0, 0, 0, 0, 0, 0, 0, 0, 0, 0, 0, 0, 0, 0, 0, 0, 0, 0, 0,\n",
       "       0, 0, 0, 0, 0, 0, 0, 0, 2, 0, 0, 0, 0, 0, 0, 0, 0, 0, 0, 0, 0, 0,\n",
       "       0, 0, 0, 0, 0, 0, 0, 0, 0, 0, 0, 0, 0, 0, 0, 0, 0, 0, 0, 0, 0, 0,\n",
       "       0, 0, 0, 0, 0, 2, 0, 0, 0, 0, 0, 0, 0, 0, 0, 0, 0, 0, 0, 0, 0, 0,\n",
       "       0, 0, 0, 0, 0, 0, 0, 0, 0, 0, 0, 0, 0, 0, 0, 0, 0, 0, 0, 0, 0, 0,\n",
       "       0, 0, 2, 0, 0, 0, 0, 0, 0, 0, 0, 0, 0, 0, 0, 0, 0, 0, 0, 0, 0, 0,\n",
       "       0, 0, 0, 0, 0, 0, 0, 0, 0, 0, 0, 0, 0, 0, 0, 0, 0, 0, 0, 0, 0, 0,\n",
       "       0, 0, 0, 0, 0, 0, 0, 0])"
      ]
     },
     "execution_count": 446,
     "metadata": {},
     "output_type": "execute_result"
    }
   ],
   "source": [
    "horizon_distribution"
   ]
  },
  {
   "cell_type": "code",
   "execution_count": 450,
   "metadata": {
    "ExecuteTime": {
     "end_time": "2022-03-11T07:52:25.076803Z",
     "start_time": "2022-03-11T07:52:25.073514Z"
    }
   },
   "outputs": [
    {
     "data": {
      "text/plain": [
       "[16,\n",
       " 56,\n",
       " 97,\n",
       " 137,\n",
       " 178,\n",
       " 218,\n",
       " 259,\n",
       " 300,\n",
       " 340,\n",
       " 381,\n",
       " 421,\n",
       " 462,\n",
       " 503,\n",
       " 543,\n",
       " 584,\n",
       " 624,\n",
       " 665,\n",
       " 706]"
      ]
     },
     "execution_count": 450,
     "metadata": {},
     "output_type": "execute_result"
    }
   ],
   "source": [
    "x_label_bulge_x = []\n",
    "for i in range(len(horizon_distribution)):\n",
    "    if horizon_distribution[i]:\n",
    "        x_label_bulge_x.append(i)\n",
    "\n",
    "x_label_bulge_x"
   ]
  },
  {
   "cell_type": "code",
   "execution_count": 455,
   "metadata": {
    "ExecuteTime": {
     "end_time": "2022-03-11T07:54:28.796827Z",
     "start_time": "2022-03-11T07:54:28.716686Z"
    }
   },
   "outputs": [
    {
     "data": {
      "text/plain": [
       "<matplotlib.image.AxesImage at 0x7f3bc028fef0>"
      ]
     },
     "execution_count": 455,
     "metadata": {},
     "output_type": "execute_result"
    },
    {
     "data": {
      "image/png": "[encoded data removed]",
      "text/plain": [
       "<Figure size 432x288 with 1 Axes>"
      ]
     },
     "metadata": {
      "needs_background": "light"
     },
     "output_type": "display_data"
    }
   ],
   "source": [
    "io.imshow(~content[554:555, 16:57])"
   ]
  },
  {
   "cell_type": "code",
   "execution_count": 456,
   "metadata": {
    "ExecuteTime": {
     "end_time": "2022-03-11T08:17:47.112734Z",
     "start_time": "2022-03-11T08:17:47.109462Z"
    }
   },
   "outputs": [
    {
     "data": {
      "text/plain": [
       "{16: 20,\n",
       " 56: 30,\n",
       " 97: 40,\n",
       " 137: 50,\n",
       " 178: 60,\n",
       " 218: 70,\n",
       " 259: 80,\n",
       " 300: 90,\n",
       " 340: 100,\n",
       " 381: 110,\n",
       " 421: 120,\n",
       " 462: 130,\n",
       " 503: 140,\n",
       " 543: 150,\n",
       " 584: 160,\n",
       " 624: 170,\n",
       " 665: 180,\n",
       " 706: 190}"
      ]
     },
     "execution_count": 456,
     "metadata": {},
     "output_type": "execute_result"
    }
   ],
   "source": [
    "x_coordinates = {}\n",
    "for i in range(len(x_label_bulge_x)):\n",
    "    x_coordinates[x_label_bulge_x[i]] = x_label_formated[i][-1]\n",
    "\n",
    "x_coordinates"
   ]
  },
  {
   "cell_type": "markdown",
   "metadata": {},
   "source": [
    "#### Regression determines the relationship between picture coordinates and real coordinates"
   ]
  },
  {
   "cell_type": "code",
   "execution_count": 467,
   "metadata": {
    "ExecuteTime": {
     "end_time": "2022-03-12T01:33:19.488584Z",
     "start_time": "2022-03-12T01:33:19.227151Z"
    }
   },
   "outputs": [],
   "source": [
    "from sklearn.linear_model import LinearRegression\n"
   ]
  },
  {
   "cell_type": "code",
   "execution_count": 479,
   "metadata": {
    "ExecuteTime": {
     "end_time": "2022-03-12T01:37:29.976725Z",
     "start_time": "2022-03-12T01:37:29.974673Z"
    }
   },
   "outputs": [],
   "source": [
    "x = np.array(list(x_coordinates.keys())).reshape((-1, 1))\n",
    "y = np.array(list(x_coordinates.values()))"
   ]
  },
  {
   "cell_type": "code",
   "execution_count": 484,
   "metadata": {
    "ExecuteTime": {
     "end_time": "2022-03-12T01:38:26.552739Z",
     "start_time": "2022-03-12T01:38:26.549326Z"
    }
   },
   "outputs": [
    {
     "data": {
      "text/plain": [
       "0.9999979720010675"
      ]
     },
     "execution_count": 484,
     "metadata": {},
     "output_type": "execute_result"
    }
   ],
   "source": [
    "x_label_model = LinearRegression()\n",
    "x_label_model.fit(x, y)\n",
    "\n",
    "x_label_model.score(x, y)"
   ]
  },
  {
   "cell_type": "code",
   "execution_count": 485,
   "metadata": {
    "ExecuteTime": {
     "end_time": "2022-03-12T01:39:17.719879Z",
     "start_time": "2022-03-12T01:39:17.716425Z"
    }
   },
   "outputs": [],
   "source": [
    "x = np.array(list(y_coordinates.keys())).reshape((-1, 1))\n",
    "y = np.array(list(y_coordinates.values()))"
   ]
  },
  {
   "cell_type": "code",
   "execution_count": 486,
   "metadata": {
    "ExecuteTime": {
     "end_time": "2022-03-12T01:39:24.469771Z",
     "start_time": "2022-03-12T01:39:24.466114Z"
    }
   },
   "outputs": [
    {
     "data": {
      "text/plain": [
       "1.0"
      ]
     },
     "execution_count": 486,
     "metadata": {},
     "output_type": "execute_result"
    }
   ],
   "source": [
    "y_label_model = LinearRegression()\n",
    "y_label_model.fit(x, y)\n",
    "\n",
    "y_label_model.score(x, y)"
   ]
  },
  {
   "cell_type": "markdown",
   "metadata": {},
   "source": [
    "#### Determine the spectral value coordinates"
   ]
  },
  {
   "cell_type": "code",
   "execution_count": 494,
   "metadata": {
    "ExecuteTime": {
     "end_time": "2022-03-12T01:43:45.837244Z",
     "start_time": "2022-03-12T01:43:45.834690Z"
    }
   },
   "outputs": [],
   "source": [
    "temp = np.sum(~content, axis=0) - 1 \n",
    "for i in range(len(temp)):\n",
    "    if temp[i] == 0:\n",
    "        start = i\n",
    "        break\n",
    "\n"
   ]
  },
  {
   "cell_type": "code",
   "execution_count": 501,
   "metadata": {
    "ExecuteTime": {
     "end_time": "2022-03-12T02:02:47.439694Z",
     "start_time": "2022-03-12T02:02:47.151619Z"
    }
   },
   "outputs": [
    {
     "data": {
      "text/plain": [
       "[{26.026720380432003: 0.7999999999999972},\n",
       " {27.01217551606613: 0.5999999999999943},\n",
       " {30.953996058602627: 1.1999999999999886},\n",
       " {34.89581660113912: 0.5999999999999943},\n",
       " {35.88127173677324: 0.3999999999999915},\n",
       " {37.113090656315904: 2.3999999999999915},\n",
       " {38.09854579195002: 2.5999999999999943},\n",
       " {39.08400092758415: 0.7999999999999972},\n",
       " {49.924007419559516: 16.39999999999999},\n",
       " {50.90946255519364: 2.3999999999999915},\n",
       " {51.89491769082776: 0.3999999999999915},\n",
       " {52.88037282646189: 0.19999999999998863},\n",
       " {55.09764688163867: 0.3999999999999915},\n",
       " {56.08310201727279: 0.9999999999999858},\n",
       " {57.06855715290691: 2.1999999999999886},\n",
       " {60.02492255980928: 1.1999999999999886},\n",
       " {61.01037769544341: 2.5999999999999943},\n",
       " {61.995832831077536: 3.3999999999999915},\n",
       " {62.98128796671166: 2.999999999999986},\n",
       " {63.96674310234578: 0.3999999999999915},\n",
       " {64.9521982379799: 0.19999999999998863},\n",
       " {66.92310850924815: 0.19999999999998863},\n",
       " {67.90856364488228: 1.5999999999999943},\n",
       " {68.8940187805164: 16.799999999999997},\n",
       " {69.87947391615053: 0.5999999999999943},\n",
       " {71.11129283569318: 0.3999999999999915},\n",
       " {72.09674797132732: 2.5999999999999943},\n",
       " {73.08220310696143: 6.0},\n",
       " {74.06765824259556: 16.39999999999999},\n",
       " {75.05311337822968: 31.60000000000001},\n",
       " {76.0385685138638: 5.199999999999989},\n",
       " {77.02402364949793: 0.5999999999999943},\n",
       " {78.99493392076619: 0.7999999999999972},\n",
       " {79.9803890564003: 3.1999999999999886},\n",
       " {80.96584419203442: 1.3999999999999915},\n",
       " {84.90766473457091: 3.1999999999999886},\n",
       " {86.87857500583917: 1.5999999999999943},\n",
       " {88.11039392538183: 0.3999999999999915},\n",
       " {90.08130419665007: 0.5999999999999943},\n",
       " {91.06675933228419: 0.7999999999999972},\n",
       " {92.05221446791832: 0.7999999999999972},\n",
       " {93.03766960355244: 1.9999999999999858},\n",
       " {94.02312473918657: 2.1999999999999886},\n",
       " {95.0085798748207: 11.199999999999989},\n",
       " {95.99403501045482: 0.9999999999999858},\n",
       " {96.97949014608893: 0.3999999999999915},\n",
       " {97.96494528172306: 0.3999999999999915},\n",
       " {98.95040041735719: 5.799999999999997},\n",
       " {99.93585555299131: 1.1999999999999886},\n",
       " {100.92131068862544: 0.7999999999999972},\n",
       " {102.89222095989369: 0.5999999999999943},\n",
       " {103.8776760955278: 0.7999999999999972},\n",
       " {105.10949501507046: 0.5999999999999943},\n",
       " {106.09495015070459: 0.3999999999999915},\n",
       " {107.08040528633872: 1.1999999999999886},\n",
       " {108.06586042197284: 0.5999999999999943},\n",
       " {109.05131555760696: 1.3999999999999915},\n",
       " {110.03677069324108: 0.5999999999999943},\n",
       " {111.02222582887521: 6.599999999999994},\n",
       " {112.00768096450933: 0.7999999999999972},\n",
       " {112.99313610014346: 2.1999999999999886},\n",
       " {113.97859123577759: 0.5999999999999943},\n",
       " {114.96404637141171: 0.3999999999999915},\n",
       " {116.93495664267995: 0.3999999999999915},\n",
       " {117.92041177831408: 0.3999999999999915},\n",
       " {118.9058669139482: 1.9999999999999858},\n",
       " {123.09405124039323: 0.9999999999999858},\n",
       " {124.07950637602735: 0.3999999999999915},\n",
       " {125.06496151166148: 12.399999999999991},\n",
       " {126.0504166472956: 4.599999999999994},\n",
       " {127.03587178292973: 0.3999999999999915},\n",
       " {129.00678205419797: 0.7999999999999972},\n",
       " {129.9922371898321: 26.0},\n",
       " {130.97769232546622: 2.1999999999999886},\n",
       " {131.96314746110033: 8.799999999999997},\n",
       " {132.94860259673447: 0.9999999999999858},\n",
       " {134.91951286800273: 0.5999999999999943},\n",
       " {141.078607465716: 0.3999999999999915},\n",
       " {143.04951773698423: 2.1999999999999886},\n",
       " {144.03497287261837: 2.3999999999999915},\n",
       " {145.0204280082525: 59.60000000000001},\n",
       " {146.0058831438866: 4.599999999999994},\n",
       " {159.06316369103877: 0.3999999999999915},\n",
       " {160.0486188266729: 0.5999999999999943},\n",
       " {161.034073962307: 45.2},\n",
       " {162.01952909794113: 3.799999999999997},\n",
       " {163.00498423357527: 14.599999999999994},\n",
       " {163.99043936920935: 1.1999999999999886},\n",
       " {179.01863018762975: 4.799999999999997},\n",
       " {180.0040853232639: 100.00000000000003},\n",
       " {180.98954045889803: 9.0},\n",
       " {181.97499559453217: 32.2},\n",
       " {182.96045073016626: 2.5999999999999943}]"
      ]
     },
     "execution_count": 501,
     "metadata": {},
     "output_type": "execute_result"
    }
   ],
   "source": [
    "content_list = []\n",
    "a, b = content.shape\n",
    "for i in range(start, b):\n",
    "    for j in range(a):\n",
    "        if ~content[j][i]:\n",
    "            x, y = x_label_model.predict(np.array(i).reshape((-1, 1)))[0], y_label_model.predict(np.array(j).reshape((-1, 1)))[0]\n",
    "            if abs(y) > 1e-6:\n",
    "                content_list.append({x:y})\n",
    "            break\n",
    "content_list"
   ]
  },
  {
   "cell_type": "code",
   "execution_count": null,
   "metadata": {},
   "outputs": [],
   "source": []
  }
 ],
 "metadata": {
  "kernelspec": {
   "display_name": "Python 3",
   "language": "python",
   "name": "python3"
  },
  "language_info": {
   "codemirror_mode": {
    "name": "ipython",
    "version": 3
   },
   "file_extension": ".py",
   "mimetype": "text/x-python",
   "name": "python",
   "nbconvert_exporter": "python",
   "pygments_lexer": "ipython3",
   "version": "3.7.3"
  },
  "toc": {
   "base_numbering": 1,
   "nav_menu": {},
   "number_sections": true,
   "sideBar": true,
   "skip_h1_title": false,
   "title_cell": "Table of Contents",
   "title_sidebar": "Contents",
   "toc_cell": false,
   "toc_position": {},
   "toc_section_display": true,
   "toc_window_display": false
  },
  "varInspector": {
   "cols": {
    "lenName": 16,
    "lenType": 16,
    "lenVar": 40
   },
   "kernels_config": {
    "python": {
     "delete_cmd_postfix": "",
     "delete_cmd_prefix": "del ",
     "library": "var_list.py",
     "varRefreshCmd": "print(var_dic_list())"
    },
    "r": {
     "delete_cmd_postfix": ") ",
     "delete_cmd_prefix": "rm(",
     "library": "var_list.r",
     "varRefreshCmd": "cat(var_dic_list()) "
    }
   },
   "types_to_exclude": [
    "module",
    "function",
    "builtin_function_or_method",
    "instance",
    "_Feature"
   ],
   "window_display": false
  }
 },
 "nbformat": 4,
 "nbformat_minor": 4
}
